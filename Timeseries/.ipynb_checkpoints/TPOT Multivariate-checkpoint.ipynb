{
 "cells": [
  {
   "cell_type": "code",
   "execution_count": 14,
   "metadata": {},
   "outputs": [],
   "source": [
    "import pandas as pd\n",
    "import numpy as np\n",
    "import matplotlib.pyplot as plt\n",
    "from tpot import TPOTRegressor\n",
    "import warnings\n",
    "warnings.filterwarnings(\"ignore\")\n",
    "from dateutil import relativedelta\n",
    "import dask\n",
    "import time\n",
    "import re"
   ]
  },
  {
   "cell_type": "code",
   "execution_count": 2,
   "metadata": {},
   "outputs": [],
   "source": [
    "df = pd.read_excel('brand_level_master_reduced_holiday.xlsx')"
   ]
  },
  {
   "cell_type": "code",
   "execution_count": 3,
   "metadata": {},
   "outputs": [],
   "source": [
    "X=df[['Date','Key','Volume','max_T','avg_T','precipitation','GTO_Vol','Disc_Vol']]"
   ]
  },
  {
   "cell_type": "code",
   "execution_count": 4,
   "metadata": {},
   "outputs": [],
   "source": [
    "X = pd.concat([X,df[['Industrial_Production_Index_month','Unemployment_Rate_quarter','Terms_of_Trade_annual',\n",
    "                    'Consumer_Price_Index_month','Nominal_GDP_Per_Capita_US_quarter']]],axis=1)"
   ]
  },
  {
   "cell_type": "code",
   "execution_count": 5,
   "metadata": {},
   "outputs": [],
   "source": [
    "#holiday variables....\n",
    "X = pd.concat([X,df.iloc[:,697:]],axis=1)"
   ]
  },
  {
   "cell_type": "code",
   "execution_count": 6,
   "metadata": {},
   "outputs": [],
   "source": [
    "X.Date = pd.to_datetime(X.Date,format='%d-%m-%Y')\n",
    "Brand_list = ['BUD','DFH','GSB','HBBP','HBI','HBO','HKOW','ISP','OTH','SED']\n",
    "#Brand_list = X.Key.unique()\n",
    "#Brand_list = ['GSB']"
   ]
  },
  {
   "cell_type": "code",
   "execution_count": 15,
   "metadata": {},
   "outputs": [],
   "source": [
    "for i in range(len(Brand_list)):\n",
    "    Brand_list[i] = re.sub('[^a-zA-Z.\\d]', '', Brand_list[i])"
   ]
  },
  {
   "cell_type": "code",
   "execution_count": 7,
   "metadata": {},
   "outputs": [
    {
     "name": "stdout",
     "output_type": "stream",
     "text": [
      "start_time 1578466107.901977\n",
      "BUD\n"
     ]
    },
    {
     "data": {
      "application/vnd.jupyter.widget-view+json": {
       "model_id": "06c6b0bddad9497eb39c99ec601f602e",
       "version_major": 2,
       "version_minor": 0
      },
      "text/plain": [
       "HBox(children=(FloatProgress(value=0.0, description='Optimization Progress', style=ProgressStyle(description_w…"
      ]
     },
     "metadata": {},
     "output_type": "display_data"
    },
    {
     "name": "stdout",
     "output_type": "stream",
     "text": [
      "Generation 1 - Current best internal CV score: -18255019526.708923\n",
      "Generation 2 - Current best internal CV score: -16144617216.40949\n",
      "Generation 3 - Current best internal CV score: -15450862779.82933\n",
      "Generation 4 - Current best internal CV score: -15450862779.82933\n",
      "Generation 5 - Current best internal CV score: -15450862779.82933\n",
      "Generation 6 - Current best internal CV score: -15336869383.419403\n",
      "Generation 7 - Current best internal CV score: -15311939799.527155\n",
      "Generation 8 - Current best internal CV score: -15311939799.527155\n",
      "\n",
      "5.02 minutes have elapsed. TPOT will close down.\n",
      "TPOT closed during evaluation in one generation.\n",
      "WARNING: TPOT may not provide a good pipeline if TPOT is stopped/interrupted in a early generation.\n",
      "\n",
      "\n",
      "TPOT closed prematurely. Will use the current best pipeline.\n",
      "\n",
      "Best pipeline: LassoLarsCV(SelectPercentile(MinMaxScaler(input_matrix), percentile=81), normalize=True)\n",
      "[[7.19638573e+01 6.25175831e+01 3.67452435e+00 1.08887346e+03\n",
      "  3.22907561e+02 1.25465700e+02 3.83340000e+00 9.34174000e+01\n",
      "  1.07754800e+02 9.83467580e+03 0.00000000e+00 0.00000000e+00\n",
      "  0.00000000e+00 0.00000000e+00 0.00000000e+00 0.00000000e+00\n",
      "  0.00000000e+00 0.00000000e+00 1.00000000e+00 0.00000000e+00\n",
      "  0.00000000e+00 0.00000000e+00 0.00000000e+00]]\n",
      "Elasped_time 301.72573614120483\n"
     ]
    },
    {
     "data": {
      "application/vnd.jupyter.widget-view+json": {
       "model_id": "c8f21e780ea44cb08a8e0cfad3034547",
       "version_major": 2,
       "version_minor": 0
      },
      "text/plain": [
       "HBox(children=(FloatProgress(value=0.0, description='Optimization Progress', style=ProgressStyle(description_w…"
      ]
     },
     "metadata": {},
     "output_type": "display_data"
    },
    {
     "name": "stdout",
     "output_type": "stream",
     "text": [
      "Generation 1 - Current best internal CV score: -16863684785.27927\n",
      "Generation 2 - Current best internal CV score: -16622891524.281107\n",
      "Generation 3 - Current best internal CV score: -16611063081.760107\n",
      "Generation 4 - Current best internal CV score: -15347500220.224274\n",
      "Generation 5 - Current best internal CV score: -14648225899.620148\n",
      "Generation 6 - Current best internal CV score: -12872689744.243738\n",
      "Generation 7 - Current best internal CV score: -12872689744.243738\n",
      "Generation 8 - Current best internal CV score: -12872689744.243738\n",
      "\n",
      "5.16 minutes have elapsed. TPOT will close down.\n",
      "TPOT closed during evaluation in one generation.\n",
      "WARNING: TPOT may not provide a good pipeline if TPOT is stopped/interrupted in a early generation.\n",
      "\n",
      "\n",
      "TPOT closed prematurely. Will use the current best pipeline.\n",
      "\n",
      "Best pipeline: AdaBoostRegressor(XGBRegressor(LassoLarsCV(LassoLarsCV(input_matrix, normalize=False), normalize=True), learning_rate=0.01, max_depth=2, min_child_weight=12, n_estimators=100, nthread=1, objective=reg:squarederror, subsample=0.45), learning_rate=1.0, loss=exponential, n_estimators=100)\n",
      "[[7.91658448e+01 6.97021899e+01 4.22271938e+00 1.06557043e+03\n",
      "  2.91084171e+02 1.25561500e+02 3.83340000e+00 9.34174000e+01\n",
      "  1.08116200e+02 9.83467580e+03 0.00000000e+00 0.00000000e+00\n",
      "  1.00000000e+00 0.00000000e+00 0.00000000e+00 0.00000000e+00\n",
      "  0.00000000e+00 0.00000000e+00 0.00000000e+00 0.00000000e+00\n",
      "  0.00000000e+00 0.00000000e+00 0.00000000e+00]]\n",
      "Elasped_time 612.1734111309052\n"
     ]
    },
    {
     "data": {
      "application/vnd.jupyter.widget-view+json": {
       "model_id": "9a60870f40dd44af90e4bd9c212a4459",
       "version_major": 2,
       "version_minor": 0
      },
      "text/plain": [
       "HBox(children=(FloatProgress(value=0.0, description='Optimization Progress', style=ProgressStyle(description_w…"
      ]
     },
     "metadata": {},
     "output_type": "display_data"
    },
    {
     "name": "stdout",
     "output_type": "stream",
     "text": [
      "Generation 1 - Current best internal CV score: -16045053601.83645\n",
      "Generation 2 - Current best internal CV score: -16045053601.83645\n",
      "Generation 3 - Current best internal CV score: -16045053601.83645\n",
      "Generation 4 - Current best internal CV score: -16045053601.83645\n",
      "Generation 5 - Current best internal CV score: -16045053601.83645\n",
      "Generation 6 - Current best internal CV score: -16045053601.83645\n",
      "Generation 7 - Current best internal CV score: -16045053601.83645\n",
      "Generation 8 - Current best internal CV score: -15629148141.04623\n",
      "\n",
      "5.01 minutes have elapsed. TPOT will close down.\n",
      "TPOT closed during evaluation in one generation.\n",
      "WARNING: TPOT may not provide a good pipeline if TPOT is stopped/interrupted in a early generation.\n",
      "\n",
      "\n",
      "TPOT closed prematurely. Will use the current best pipeline.\n",
      "\n",
      "Best pipeline: LassoLarsCV(SelectPercentile(SelectPercentile(VarianceThreshold(input_matrix, threshold=0.01), percentile=86), percentile=86), normalize=True)\n",
      "[[8.54816429e+01 7.70712598e+01 6.27293042e+00 1.03416678e+03\n",
      "  2.72445735e+02 1.27126300e+02 3.83340000e+00 9.34174000e+01\n",
      "  1.08352800e+02 9.83467580e+03 0.00000000e+00 1.00000000e+00\n",
      "  0.00000000e+00 0.00000000e+00 0.00000000e+00 0.00000000e+00\n",
      "  0.00000000e+00 0.00000000e+00 0.00000000e+00 0.00000000e+00\n",
      "  0.00000000e+00 1.00000000e+00 1.00000000e+00]]\n",
      "Elasped_time 913.0556025505066\n"
     ]
    },
    {
     "data": {
      "application/vnd.jupyter.widget-view+json": {
       "model_id": "b7558af2aa88412d877917056a4060da",
       "version_major": 2,
       "version_minor": 0
      },
      "text/plain": [
       "HBox(children=(FloatProgress(value=0.0, description='Optimization Progress', style=ProgressStyle(description_w…"
      ]
     },
     "metadata": {},
     "output_type": "display_data"
    },
    {
     "name": "stdout",
     "output_type": "stream",
     "text": [
      "Generation 1 - Current best internal CV score: -21676791862.430283\n",
      "Generation 2 - Current best internal CV score: -19316382699.553368\n",
      "Generation 3 - Current best internal CV score: -17410466242.420795\n",
      "Generation 4 - Current best internal CV score: -17410466242.420795\n",
      "Generation 5 - Current best internal CV score: -17410466242.420795\n",
      "Generation 6 - Current best internal CV score: -17410466242.420795\n",
      "Generation 7 - Current best internal CV score: -16185957743.877619\n",
      "Generation 8 - Current best internal CV score: -16185957743.877619\n",
      "Generation 9 - Current best internal CV score: -16185957743.877619\n",
      "\n",
      "5.03 minutes have elapsed. TPOT will close down.\n",
      "TPOT closed during evaluation in one generation.\n",
      "WARNING: TPOT may not provide a good pipeline if TPOT is stopped/interrupted in a early generation.\n",
      "\n",
      "\n",
      "TPOT closed prematurely. Will use the current best pipeline.\n",
      "\n",
      "Best pipeline: RidgeCV(MaxAbsScaler(PolynomialFeatures(MaxAbsScaler(input_matrix), degree=2, include_bias=False, interaction_only=False)))\n",
      "[[8.86476329e+01 8.07489126e+01 6.84054153e+00 1.06052281e+03\n",
      "  2.70309393e+02 1.25915700e+02 3.85410000e+00 9.34174000e+01\n",
      "  1.08748500e+02 9.72145100e+03 0.00000000e+00 0.00000000e+00\n",
      "  0.00000000e+00 0.00000000e+00 0.00000000e+00 0.00000000e+00\n",
      "  0.00000000e+00 0.00000000e+00 0.00000000e+00 0.00000000e+00\n",
      "  0.00000000e+00 0.00000000e+00 0.00000000e+00]]\n",
      "Elasped_time 1215.6872000694275\n"
     ]
    },
    {
     "data": {
      "application/vnd.jupyter.widget-view+json": {
       "model_id": "1091218f426542fb87084b2e08cdfa9b",
       "version_major": 2,
       "version_minor": 0
      },
      "text/plain": [
       "HBox(children=(FloatProgress(value=0.0, description='Optimization Progress', style=ProgressStyle(description_w…"
      ]
     },
     "metadata": {},
     "output_type": "display_data"
    },
    {
     "name": "stdout",
     "output_type": "stream",
     "text": [
      "Generation 1 - Current best internal CV score: -23021897631.951855\n",
      "Generation 2 - Current best internal CV score: -23021897631.951855\n",
      "Generation 3 - Current best internal CV score: -21981474425.592525\n",
      "Generation 4 - Current best internal CV score: -19104018551.24453\n",
      "Generation 5 - Current best internal CV score: -19104018551.24453\n",
      "Generation 6 - Current best internal CV score: -19104018551.24453\n",
      "Generation 7 - Current best internal CV score: -17942685564.463997\n",
      "Generation 8 - Current best internal CV score: -17942685564.463997\n",
      "Generation 9 - Current best internal CV score: -17942685564.463997\n",
      "\n",
      "5.11 minutes have elapsed. TPOT will close down.\n",
      "TPOT closed during evaluation in one generation.\n",
      "WARNING: TPOT may not provide a good pipeline if TPOT is stopped/interrupted in a early generation.\n",
      "\n",
      "\n",
      "TPOT closed prematurely. Will use the current best pipeline.\n",
      "\n",
      "Best pipeline: LassoLarsCV(Normalizer(MaxAbsScaler(SelectPercentile(input_matrix, percentile=60)), norm=max), normalize=True)\n",
      "[[8.83792027e+01 8.01829538e+01 6.87268937e+00 1.05900065e+03\n",
      "  2.50115939e+02 1.26059300e+02 3.85410000e+00 9.34174000e+01\n",
      "  1.09130800e+02 9.72145100e+03 0.00000000e+00 0.00000000e+00\n",
      "  0.00000000e+00 0.00000000e+00 0.00000000e+00 0.00000000e+00\n",
      "  0.00000000e+00 0.00000000e+00 0.00000000e+00 0.00000000e+00\n",
      "  0.00000000e+00 0.00000000e+00 0.00000000e+00]]\n",
      "Elasped_time 1522.5093171596527\n"
     ]
    },
    {
     "data": {
      "application/vnd.jupyter.widget-view+json": {
       "model_id": "11c001d4718f46bd90564966016d4156",
       "version_major": 2,
       "version_minor": 0
      },
      "text/plain": [
       "HBox(children=(FloatProgress(value=0.0, description='Optimization Progress', style=ProgressStyle(description_w…"
      ]
     },
     "metadata": {},
     "output_type": "display_data"
    },
    {
     "name": "stdout",
     "output_type": "stream",
     "text": [
      "Generation 1 - Current best internal CV score: -21963784785.768303\n",
      "Generation 2 - Current best internal CV score: -20794067802.19044\n",
      "Generation 3 - Current best internal CV score: -19966789176.0615\n",
      "Generation 4 - Current best internal CV score: -19672398356.623394\n",
      "Generation 5 - Current best internal CV score: -18263971260.853073\n",
      "Generation 6 - Current best internal CV score: -18263971260.853073\n",
      "Generation 7 - Current best internal CV score: -18263971260.853043\n",
      "\n",
      "5.05 minutes have elapsed. TPOT will close down.\n",
      "TPOT closed during evaluation in one generation.\n",
      "WARNING: TPOT may not provide a good pipeline if TPOT is stopped/interrupted in a early generation.\n",
      "\n",
      "\n",
      "TPOT closed prematurely. Will use the current best pipeline.\n",
      "\n",
      "Best pipeline: AdaBoostRegressor(VarianceThreshold(LassoLarsCV(input_matrix, normalize=True), threshold=0.01), learning_rate=1.0, loss=square, n_estimators=100)\n",
      "[[8.30310179e+01 7.38202287e+01 3.08047694e+00 1.10623272e+03\n",
      "  2.78122988e+02 1.28066500e+02 3.85410000e+00 9.34174000e+01\n",
      "  1.09550100e+02 9.72145100e+03 0.00000000e+00 0.00000000e+00\n",
      "  0.00000000e+00 1.00000000e+00 0.00000000e+00 0.00000000e+00\n",
      "  0.00000000e+00 0.00000000e+00 0.00000000e+00 0.00000000e+00\n",
      "  0.00000000e+00 1.00000000e+00 0.00000000e+00]]\n",
      "Elasped_time 1827.8967657089233\n"
     ]
    },
    {
     "data": {
      "application/vnd.jupyter.widget-view+json": {
       "model_id": "22bb8b0b73564d1c9786a08384021951",
       "version_major": 2,
       "version_minor": 0
      },
      "text/plain": [
       "HBox(children=(FloatProgress(value=0.0, description='Optimization Progress', style=ProgressStyle(description_w…"
      ]
     },
     "metadata": {},
     "output_type": "display_data"
    },
    {
     "name": "stdout",
     "output_type": "stream",
     "text": [
      "Generation 1 - Current best internal CV score: -19328934824.358036\n",
      "Generation 2 - Current best internal CV score: -19328934824.358036\n",
      "Generation 3 - Current best internal CV score: -19328934824.358036\n",
      "Generation 4 - Current best internal CV score: -19328934824.358036\n",
      "Generation 5 - Current best internal CV score: -19328934824.358036\n",
      "Generation 6 - Current best internal CV score: -19328934824.358036\n",
      "Generation 7 - Current best internal CV score: -19328934824.358036\n",
      "\n",
      "5.00 minutes have elapsed. TPOT will close down.\n",
      "TPOT closed during evaluation in one generation.\n",
      "WARNING: TPOT may not provide a good pipeline if TPOT is stopped/interrupted in a early generation.\n",
      "\n",
      "\n",
      "TPOT closed prematurely. Will use the current best pipeline.\n",
      "\n",
      "Best pipeline: RidgeCV(MaxAbsScaler(PolynomialFeatures(input_matrix, degree=2, include_bias=False, interaction_only=False)))\n",
      "[[7.20591848e+01 6.32762706e+01 2.25821201e+00 1.12826490e+03\n",
      "  3.22253691e+02 1.28880400e+02 3.86450000e+00 9.34174000e+01\n",
      "  1.10626100e+02 9.93793900e+03 0.00000000e+00 0.00000000e+00\n",
      "  0.00000000e+00 0.00000000e+00 1.00000000e+00 0.00000000e+00\n",
      "  0.00000000e+00 0.00000000e+00 0.00000000e+00 0.00000000e+00\n",
      "  0.00000000e+00 0.00000000e+00 0.00000000e+00]]\n",
      "Elasped_time 2128.431699037552\n",
      "          BUD_4        BUD_5         BUD_6         BUD_7         BUD_8  \\\n",
      "0  1.570485e+06  1831175.801  2.103516e+06  2.063421e+06  1.981049e+06   \n",
      "\n",
      "          BUD_9        BUD_10  \n",
      "0  1.827793e+06  1.471366e+06  \n",
      "                   0\n",
      "BUD_4   1.570485e+06\n",
      "BUD_5   1.831176e+06\n",
      "BUD_6   2.103516e+06\n",
      "BUD_7   2.063421e+06\n",
      "BUD_8   1.981049e+06\n",
      "BUD_9   1.827793e+06\n",
      "BUD_10  1.471366e+06\n",
      "    index             0\n",
      "0   BUD_4  1.570485e+06\n",
      "1   BUD_5  1.831176e+06\n",
      "2   BUD_6  2.103516e+06\n",
      "3   BUD_7  2.063421e+06\n",
      "4   BUD_8  1.981049e+06\n",
      "5   BUD_9  1.827793e+06\n",
      "6  BUD_10  1.471366e+06\n",
      "    Brand  Forecast_values\n",
      "0   BUD_4     1.570485e+06\n",
      "1   BUD_5     1.831176e+06\n",
      "2   BUD_6     2.103516e+06\n",
      "3   BUD_7     2.063421e+06\n",
      "4   BUD_8     1.981049e+06\n",
      "5   BUD_9     1.827793e+06\n",
      "6  BUD_10     1.471366e+06\n",
      "    Brand  Actual_values\n",
      "0   BUD_4    1526338.829\n",
      "1   BUD_5    2070232.414\n",
      "2   BUD_6    2367853.079\n",
      "3   BUD_7    1748440.507\n",
      "4   BUD_8    1965172.455\n",
      "5   BUD_9    1677321.591\n",
      "6  BUD_10    1228506.813\n",
      "start_time 1578468236.3606038\n",
      "DFH\n"
     ]
    },
    {
     "data": {
      "application/vnd.jupyter.widget-view+json": {
       "model_id": "6d00fab646bb411cbf96a8dddd8ab6d1",
       "version_major": 2,
       "version_minor": 0
      },
      "text/plain": [
       "HBox(children=(FloatProgress(value=0.0, description='Optimization Progress', style=ProgressStyle(description_w…"
      ]
     },
     "metadata": {},
     "output_type": "display_data"
    },
    {
     "name": "stdout",
     "output_type": "stream",
     "text": [
      "Generation 1 - Current best internal CV score: -4581397289.218369\n",
      "Generation 2 - Current best internal CV score: -4394540874.98687\n",
      "Generation 3 - Current best internal CV score: -3754316535.1487517\n",
      "Generation 4 - Current best internal CV score: -3754316535.1487517\n",
      "Generation 5 - Current best internal CV score: -3753862170.4281716\n",
      "Generation 6 - Current best internal CV score: -3687284286.823455\n",
      "Generation 7 - Current best internal CV score: -3687284286.823455\n",
      "Generation 8 - Current best internal CV score: -2784836457.391936\n",
      "\n",
      "5.29 minutes have elapsed. TPOT will close down.\n",
      "TPOT closed during evaluation in one generation.\n",
      "WARNING: TPOT may not provide a good pipeline if TPOT is stopped/interrupted in a early generation.\n",
      "\n",
      "\n",
      "TPOT closed prematurely. Will use the current best pipeline.\n",
      "\n",
      "Best pipeline: LassoLarsCV(AdaBoostRegressor(RobustScaler(CombineDFs(ExtraTreesRegressor(input_matrix, bootstrap=False, max_features=0.9000000000000001, min_samples_leaf=3, min_samples_split=11, n_estimators=100), input_matrix)), learning_rate=1.0, loss=linear, n_estimators=100), normalize=True)\n",
      "[[7.19638573e+01 6.25175831e+01 3.67452435e+00 2.42043951e+02\n",
      "  4.07721163e+01 1.25465700e+02 3.83340000e+00 9.34174000e+01\n",
      "  1.07754800e+02 9.83467580e+03 0.00000000e+00 0.00000000e+00\n",
      "  0.00000000e+00 0.00000000e+00 0.00000000e+00 0.00000000e+00\n",
      "  0.00000000e+00 0.00000000e+00 1.00000000e+00 0.00000000e+00\n",
      "  0.00000000e+00 0.00000000e+00 0.00000000e+00]]\n",
      "Elasped_time 318.86526894569397\n"
     ]
    },
    {
     "data": {
      "application/vnd.jupyter.widget-view+json": {
       "model_id": "8865678d87a3449585d77879913c0688",
       "version_major": 2,
       "version_minor": 0
      },
      "text/plain": [
       "HBox(children=(FloatProgress(value=0.0, description='Optimization Progress', style=ProgressStyle(description_w…"
      ]
     },
     "metadata": {},
     "output_type": "display_data"
    },
    {
     "name": "stdout",
     "output_type": "stream",
     "text": [
      "Generation 1 - Current best internal CV score: -3437907625.9634385\n",
      "Generation 2 - Current best internal CV score: -3437907625.9634385\n",
      "Generation 3 - Current best internal CV score: -3437907625.9634385\n",
      "Generation 4 - Current best internal CV score: -3437907625.9634385\n",
      "Generation 5 - Current best internal CV score: -3437907625.9634385\n",
      "Generation 6 - Current best internal CV score: -3437907625.9634385\n",
      "\n",
      "5.40 minutes have elapsed. TPOT will close down.\n",
      "TPOT closed during evaluation in one generation.\n",
      "WARNING: TPOT may not provide a good pipeline if TPOT is stopped/interrupted in a early generation.\n",
      "\n",
      "\n",
      "TPOT closed prematurely. Will use the current best pipeline.\n",
      "\n",
      "Best pipeline: ExtraTreesRegressor(input_matrix, bootstrap=False, max_features=0.55, min_samples_leaf=1, min_samples_split=11, n_estimators=100)\n",
      "[[7.91658448e+01 6.97021899e+01 4.22271938e+00 2.67239638e+02\n",
      "  5.26483712e+01 1.25561500e+02 3.83340000e+00 9.34174000e+01\n",
      "  1.08116200e+02 9.83467580e+03 0.00000000e+00 0.00000000e+00\n",
      "  1.00000000e+00 0.00000000e+00 0.00000000e+00 0.00000000e+00\n",
      "  0.00000000e+00 0.00000000e+00 0.00000000e+00 0.00000000e+00\n",
      "  0.00000000e+00 0.00000000e+00 0.00000000e+00]]\n",
      "Elasped_time 643.0171813964844\n"
     ]
    },
    {
     "data": {
      "application/vnd.jupyter.widget-view+json": {
       "model_id": "bfa7b0d44a294fe9914f3ece1a38f89f",
       "version_major": 2,
       "version_minor": 0
      },
      "text/plain": [
       "HBox(children=(FloatProgress(value=0.0, description='Optimization Progress', style=ProgressStyle(description_w…"
      ]
     },
     "metadata": {},
     "output_type": "display_data"
    },
    {
     "name": "stdout",
     "output_type": "stream",
     "text": [
      "Generation 1 - Current best internal CV score: -3954391268.417918\n",
      "Generation 2 - Current best internal CV score: -2676863483.105835\n",
      "Generation 3 - Current best internal CV score: -2676863483.105835\n",
      "Generation 4 - Current best internal CV score: -2676863483.105835\n",
      "Generation 5 - Current best internal CV score: -2676863483.105835\n",
      "Generation 6 - Current best internal CV score: -2676863483.105835\n",
      "\n",
      "5.24 minutes have elapsed. TPOT will close down.\n",
      "TPOT closed during evaluation in one generation.\n",
      "WARNING: TPOT may not provide a good pipeline if TPOT is stopped/interrupted in a early generation.\n",
      "\n",
      "\n",
      "TPOT closed prematurely. Will use the current best pipeline.\n",
      "\n",
      "Best pipeline: ElasticNetCV(ExtraTreesRegressor(input_matrix, bootstrap=False, max_features=0.7500000000000001, min_samples_leaf=2, min_samples_split=8, n_estimators=100), l1_ratio=0.30000000000000004, tol=1e-05)\n",
      "[[8.54816429e+01 7.70712598e+01 6.27293042e+00 2.65755733e+02\n",
      "  4.52777005e+01 1.27126300e+02 3.83340000e+00 9.34174000e+01\n",
      "  1.08352800e+02 9.83467580e+03 0.00000000e+00 1.00000000e+00\n",
      "  0.00000000e+00 0.00000000e+00 0.00000000e+00 0.00000000e+00\n",
      "  0.00000000e+00 0.00000000e+00 0.00000000e+00 0.00000000e+00\n",
      "  0.00000000e+00 1.00000000e+00 1.00000000e+00]]\n",
      "Elasped_time 958.2464363574982\n"
     ]
    },
    {
     "data": {
      "application/vnd.jupyter.widget-view+json": {
       "model_id": "e4798af093344bc89d5c44fb9dfdfc26",
       "version_major": 2,
       "version_minor": 0
      },
      "text/plain": [
       "HBox(children=(FloatProgress(value=0.0, description='Optimization Progress', style=ProgressStyle(description_w…"
      ]
     },
     "metadata": {},
     "output_type": "display_data"
    },
    {
     "name": "stdout",
     "output_type": "stream",
     "text": [
      "Generation 1 - Current best internal CV score: -3355585001.02869\n",
      "Generation 2 - Current best internal CV score: -2568496128.2477713\n",
      "Generation 3 - Current best internal CV score: -2318774670.923854\n",
      "Generation 4 - Current best internal CV score: -2299612764.835098\n",
      "Generation 5 - Current best internal CV score: -2170635988.1376934\n",
      "Generation 6 - Current best internal CV score: -2110408505.4079545\n",
      "Generation 7 - Current best internal CV score: -2110408505.4079545\n",
      "\n",
      "5.24 minutes have elapsed. TPOT will close down.\n",
      "TPOT closed during evaluation in one generation.\n",
      "WARNING: TPOT may not provide a good pipeline if TPOT is stopped/interrupted in a early generation.\n",
      "\n",
      "\n",
      "TPOT closed prematurely. Will use the current best pipeline.\n",
      "\n",
      "Best pipeline: ExtraTreesRegressor(MaxAbsScaler(input_matrix), bootstrap=False, max_features=0.9500000000000001, min_samples_leaf=2, min_samples_split=6, n_estimators=100)\n",
      "[[8.86476329e+01 8.07489126e+01 6.84054153e+00 2.56727079e+02\n",
      "  5.90284850e+01 1.25915700e+02 3.85410000e+00 9.34174000e+01\n",
      "  1.08748500e+02 9.72145100e+03 0.00000000e+00 0.00000000e+00\n",
      "  0.00000000e+00 0.00000000e+00 0.00000000e+00 0.00000000e+00\n",
      "  0.00000000e+00 0.00000000e+00 0.00000000e+00 0.00000000e+00\n",
      "  0.00000000e+00 0.00000000e+00 0.00000000e+00]]\n",
      "Elasped_time 1272.9017925262451\n"
     ]
    },
    {
     "data": {
      "application/vnd.jupyter.widget-view+json": {
       "model_id": "01d952ef2f674ce18bec557103da9369",
       "version_major": 2,
       "version_minor": 0
      },
      "text/plain": [
       "HBox(children=(FloatProgress(value=0.0, description='Optimization Progress', style=ProgressStyle(description_w…"
      ]
     },
     "metadata": {},
     "output_type": "display_data"
    },
    {
     "name": "stdout",
     "output_type": "stream",
     "text": [
      "Generation 1 - Current best internal CV score: -5113654770.498841\n",
      "Generation 2 - Current best internal CV score: -5113654770.498841\n",
      "Generation 3 - Current best internal CV score: -2910880886.713825\n",
      "Generation 4 - Current best internal CV score: -2910880886.713825\n",
      "Generation 5 - Current best internal CV score: -2670953831.539791\n",
      "Generation 6 - Current best internal CV score: -2145128124.6835237\n",
      "\n",
      "5.03 minutes have elapsed. TPOT will close down.\n",
      "TPOT closed during evaluation in one generation.\n",
      "WARNING: TPOT may not provide a good pipeline if TPOT is stopped/interrupted in a early generation.\n",
      "\n",
      "\n",
      "TPOT closed prematurely. Will use the current best pipeline.\n",
      "\n",
      "Best pipeline: ExtraTreesRegressor(RandomForestRegressor(input_matrix, bootstrap=True, max_features=0.7500000000000001, min_samples_leaf=20, min_samples_split=5, n_estimators=100), bootstrap=False, max_features=0.9500000000000001, min_samples_leaf=2, min_samples_split=3, n_estimators=100)\n",
      "[[8.83792027e+01 8.01829538e+01 6.87268937e+00 2.67027743e+02\n",
      "  5.13766010e+01 1.26059300e+02 3.85410000e+00 9.34174000e+01\n",
      "  1.09130800e+02 9.72145100e+03 0.00000000e+00 0.00000000e+00\n",
      "  0.00000000e+00 0.00000000e+00 0.00000000e+00 0.00000000e+00\n",
      "  0.00000000e+00 0.00000000e+00 0.00000000e+00 0.00000000e+00\n",
      "  0.00000000e+00 0.00000000e+00 0.00000000e+00]]\n",
      "Elasped_time 1575.3789749145508\n"
     ]
    },
    {
     "data": {
      "application/vnd.jupyter.widget-view+json": {
       "model_id": "8c326ec6f93d4ec7b8db24cb94b274d0",
       "version_major": 2,
       "version_minor": 0
      },
      "text/plain": [
       "HBox(children=(FloatProgress(value=0.0, description='Optimization Progress', style=ProgressStyle(description_w…"
      ]
     },
     "metadata": {},
     "output_type": "display_data"
    },
    {
     "name": "stdout",
     "output_type": "stream",
     "text": [
      "Generation 1 - Current best internal CV score: -3666197168.8237715\n",
      "Generation 2 - Current best internal CV score: -3666197168.8237715\n",
      "Generation 3 - Current best internal CV score: -3666197168.8237715\n",
      "Generation 4 - Current best internal CV score: -3666197168.8237715\n",
      "Generation 5 - Current best internal CV score: -3219582143.452218\n",
      "\n",
      "5.21 minutes have elapsed. TPOT will close down.\n",
      "TPOT closed during evaluation in one generation.\n",
      "WARNING: TPOT may not provide a good pipeline if TPOT is stopped/interrupted in a early generation.\n",
      "\n",
      "\n",
      "TPOT closed prematurely. Will use the current best pipeline.\n",
      "\n",
      "Best pipeline: ExtraTreesRegressor(input_matrix, bootstrap=False, max_features=0.8500000000000001, min_samples_leaf=3, min_samples_split=8, n_estimators=100)\n",
      "[[8.30310179e+01 7.38202287e+01 3.08047694e+00 2.85831022e+02\n",
      "  7.37667584e+01 1.28066500e+02 3.85410000e+00 9.34174000e+01\n",
      "  1.09550100e+02 9.72145100e+03 0.00000000e+00 0.00000000e+00\n",
      "  0.00000000e+00 1.00000000e+00 0.00000000e+00 0.00000000e+00\n",
      "  0.00000000e+00 0.00000000e+00 0.00000000e+00 0.00000000e+00\n",
      "  0.00000000e+00 1.00000000e+00 0.00000000e+00]]\n",
      "Elasped_time 1888.0406806468964\n"
     ]
    },
    {
     "data": {
      "application/vnd.jupyter.widget-view+json": {
       "model_id": "148ba8896c7a4c2c8c164c29596f096d",
       "version_major": 2,
       "version_minor": 0
      },
      "text/plain": [
       "HBox(children=(FloatProgress(value=0.0, description='Optimization Progress', style=ProgressStyle(description_w…"
      ]
     },
     "metadata": {},
     "output_type": "display_data"
    },
    {
     "name": "stdout",
     "output_type": "stream",
     "text": [
      "Generation 1 - Current best internal CV score: -5435746159.708429\n",
      "Generation 2 - Current best internal CV score: -5435746159.708429\n",
      "Generation 3 - Current best internal CV score: -5102051124.595182\n",
      "Generation 4 - Current best internal CV score: -4435233265.352628\n",
      "Generation 5 - Current best internal CV score: -2995016575.67012\n",
      "Generation 6 - Current best internal CV score: -2995016575.67012\n",
      "\n",
      "6.59 minutes have elapsed. TPOT will close down.\n",
      "TPOT closed during evaluation in one generation.\n",
      "WARNING: TPOT may not provide a good pipeline if TPOT is stopped/interrupted in a early generation.\n",
      "\n",
      "\n",
      "TPOT closed prematurely. Will use the current best pipeline.\n",
      "\n",
      "Best pipeline: ExtraTreesRegressor(input_matrix, bootstrap=False, max_features=0.9500000000000001, min_samples_leaf=2, min_samples_split=7, n_estimators=100)\n",
      "[[7.20591848e+01 6.32762706e+01 2.25821201e+00 2.98173189e+02\n",
      "  5.43072121e+01 1.28880400e+02 3.86450000e+00 9.34174000e+01\n",
      "  1.10626100e+02 9.93793900e+03 0.00000000e+00 0.00000000e+00\n",
      "  0.00000000e+00 0.00000000e+00 1.00000000e+00 0.00000000e+00\n",
      "  0.00000000e+00 0.00000000e+00 0.00000000e+00 0.00000000e+00\n",
      "  0.00000000e+00 0.00000000e+00 0.00000000e+00]]\n",
      "Elasped_time 2283.4512610435486\n",
      "           DFH_4          DFH_5          DFH_6         DFH_7          DFH_8  \\\n",
      "0  218959.363383  235505.492305  340916.909148  330294.16697  286344.736418   \n",
      "\n",
      "           DFH_9        DFH_10  \n",
      "0  221114.320323  96858.157388  \n",
      "                    0\n",
      "DFH_4   218959.363383\n",
      "DFH_5   235505.492305\n",
      "DFH_6   340916.909148\n",
      "DFH_7   330294.166970\n",
      "DFH_8   286344.736418\n",
      "DFH_9   221114.320323\n",
      "DFH_10   96858.157388\n",
      "    index              0\n",
      "0   DFH_4  218959.363383\n",
      "1   DFH_5  235505.492305\n",
      "2   DFH_6  340916.909148\n",
      "3   DFH_7  330294.166970\n",
      "4   DFH_8  286344.736418\n",
      "5   DFH_9  221114.320323\n",
      "6  DFH_10   96858.157388\n",
      "    Brand  Forecast_values\n",
      "0   DFH_4    218959.363383\n",
      "1   DFH_5    235505.492305\n",
      "2   DFH_6    340916.909148\n",
      "3   DFH_7    330294.166970\n",
      "4   DFH_8    286344.736418\n",
      "5   DFH_9    221114.320323\n",
      "6  DFH_10     96858.157388\n",
      "    Brand  Actual_values\n",
      "0   DFH_4     260400.101\n",
      "1   DFH_5     213822.335\n",
      "2   DFH_6     366875.972\n",
      "3   DFH_7     260280.083\n",
      "4   DFH_8     272938.315\n",
      "5   DFH_9     109164.532\n",
      "6  DFH_10     113275.304\n",
      "start_time 1578470519.8338058\n",
      "GSB\n"
     ]
    },
    {
     "data": {
      "application/vnd.jupyter.widget-view+json": {
       "model_id": "5da0372f4e3e47a6b9bb484af039246b",
       "version_major": 2,
       "version_minor": 0
      },
      "text/plain": [
       "HBox(children=(FloatProgress(value=0.0, description='Optimization Progress', style=ProgressStyle(description_w…"
      ]
     },
     "metadata": {},
     "output_type": "display_data"
    },
    {
     "name": "stdout",
     "output_type": "stream",
     "text": [
      "Generation 1 - Current best internal CV score: -1277568533.7364166\n",
      "Generation 2 - Current best internal CV score: -1277568533.7364166\n",
      "Generation 3 - Current best internal CV score: -1277568533.7364166\n",
      "Generation 4 - Current best internal CV score: -1277568533.7364166\n",
      "Generation 5 - Current best internal CV score: -1277568533.7364166\n",
      "Generation 6 - Current best internal CV score: -1110565763.003953\n",
      "\n",
      "5.06 minutes have elapsed. TPOT will close down.\n",
      "TPOT closed during evaluation in one generation.\n",
      "WARNING: TPOT may not provide a good pipeline if TPOT is stopped/interrupted in a early generation.\n",
      "\n",
      "\n",
      "TPOT closed prematurely. Will use the current best pipeline.\n",
      "\n",
      "Best pipeline: ExtraTreesRegressor(LassoLarsCV(RandomForestRegressor(input_matrix, bootstrap=True, max_features=0.1, min_samples_leaf=17, min_samples_split=19, n_estimators=100), normalize=True), bootstrap=False, max_features=1.0, min_samples_leaf=2, min_samples_split=9, n_estimators=100)\n",
      "[[7.19638573e+01 6.25175831e+01 3.67452435e+00 4.08545940e+02\n",
      "  1.70843736e+02 1.25465700e+02 3.83340000e+00 9.34174000e+01\n",
      "  1.07754800e+02 9.83467580e+03 0.00000000e+00 0.00000000e+00\n",
      "  0.00000000e+00 0.00000000e+00 0.00000000e+00 0.00000000e+00\n",
      "  0.00000000e+00 0.00000000e+00 1.00000000e+00 0.00000000e+00\n",
      "  0.00000000e+00 0.00000000e+00 0.00000000e+00]]\n",
      "Elasped_time 304.76547503471375\n"
     ]
    },
    {
     "data": {
      "application/vnd.jupyter.widget-view+json": {
       "model_id": "516fe4d283984609934335ccd9811301",
       "version_major": 2,
       "version_minor": 0
      },
      "text/plain": [
       "HBox(children=(FloatProgress(value=0.0, description='Optimization Progress', style=ProgressStyle(description_w…"
      ]
     },
     "metadata": {},
     "output_type": "display_data"
    },
    {
     "name": "stdout",
     "output_type": "stream",
     "text": [
      "Generation 1 - Current best internal CV score: -1396290169.5938878\n",
      "Generation 2 - Current best internal CV score: -1396290169.5938878\n",
      "Generation 3 - Current best internal CV score: -1350513973.974713\n",
      "Generation 4 - Current best internal CV score: -1217110131.335176\n",
      "Generation 5 - Current best internal CV score: -1027218514.9273064\n",
      "Generation 6 - Current best internal CV score: -1027218514.9273064\n",
      "Generation 7 - Current best internal CV score: -1027218514.9273064\n",
      "\n",
      "5.07 minutes have elapsed. TPOT will close down.\n",
      "TPOT closed during evaluation in one generation.\n",
      "WARNING: TPOT may not provide a good pipeline if TPOT is stopped/interrupted in a early generation.\n",
      "\n",
      "\n",
      "TPOT closed prematurely. Will use the current best pipeline.\n",
      "\n",
      "Best pipeline: RidgeCV(AdaBoostRegressor(LassoLarsCV(input_matrix, normalize=True), learning_rate=0.001, loss=linear, n_estimators=100))\n",
      "[[7.91658448e+01 6.97021899e+01 4.22271938e+00 3.99371219e+02\n",
      "  1.73195689e+02 1.25561500e+02 3.83340000e+00 9.34174000e+01\n",
      "  1.08116200e+02 9.83467580e+03 0.00000000e+00 0.00000000e+00\n",
      "  1.00000000e+00 0.00000000e+00 0.00000000e+00 0.00000000e+00\n",
      "  0.00000000e+00 0.00000000e+00 0.00000000e+00 0.00000000e+00\n",
      "  0.00000000e+00 0.00000000e+00 0.00000000e+00]]\n",
      "Elasped_time 609.435485124588\n"
     ]
    },
    {
     "data": {
      "application/vnd.jupyter.widget-view+json": {
       "model_id": "fed9acaa475d434c9be5258fcf8dbf44",
       "version_major": 2,
       "version_minor": 0
      },
      "text/plain": [
       "HBox(children=(FloatProgress(value=0.0, description='Optimization Progress', style=ProgressStyle(description_w…"
      ]
     },
     "metadata": {},
     "output_type": "display_data"
    },
    {
     "name": "stdout",
     "output_type": "stream",
     "text": [
      "Generation 1 - Current best internal CV score: -1188451094.8180358\n",
      "Generation 2 - Current best internal CV score: -1188451094.8180358\n",
      "Generation 3 - Current best internal CV score: -1188451094.8180358\n",
      "Generation 4 - Current best internal CV score: -1188451094.8180358\n",
      "Generation 5 - Current best internal CV score: -1188451094.8180358\n",
      "Generation 6 - Current best internal CV score: -1164701958.3106997\n",
      "\n",
      "5.02 minutes have elapsed. TPOT will close down.\n",
      "TPOT closed during evaluation in one generation.\n",
      "WARNING: TPOT may not provide a good pipeline if TPOT is stopped/interrupted in a early generation.\n",
      "\n",
      "\n",
      "TPOT closed prematurely. Will use the current best pipeline.\n",
      "\n",
      "Best pipeline: LassoLarsCV(StandardScaler(RandomForestRegressor(input_matrix, bootstrap=True, max_features=0.05, min_samples_leaf=14, min_samples_split=8, n_estimators=100)), normalize=True)\n",
      "[[8.54816429e+01 7.70712598e+01 6.27293042e+00 4.00440950e+02\n",
      "  1.69667903e+02 1.27126300e+02 3.83340000e+00 9.34174000e+01\n",
      "  1.08352800e+02 9.83467580e+03 0.00000000e+00 1.00000000e+00\n",
      "  0.00000000e+00 0.00000000e+00 0.00000000e+00 0.00000000e+00\n",
      "  0.00000000e+00 0.00000000e+00 0.00000000e+00 0.00000000e+00\n",
      "  0.00000000e+00 1.00000000e+00 1.00000000e+00]]\n",
      "Elasped_time 911.3099656105042\n"
     ]
    },
    {
     "data": {
      "application/vnd.jupyter.widget-view+json": {
       "model_id": "7c23275da38d4c7595e6db6c31d894ff",
       "version_major": 2,
       "version_minor": 0
      },
      "text/plain": [
       "HBox(children=(FloatProgress(value=0.0, description='Optimization Progress', style=ProgressStyle(description_w…"
      ]
     },
     "metadata": {},
     "output_type": "display_data"
    },
    {
     "name": "stdout",
     "output_type": "stream",
     "text": [
      "Generation 1 - Current best internal CV score: -1076059457.5936089\n",
      "Generation 2 - Current best internal CV score: -1076059457.5936089\n",
      "Generation 3 - Current best internal CV score: -1076059457.5936089\n",
      "Generation 4 - Current best internal CV score: -1076059457.5936089\n",
      "Generation 5 - Current best internal CV score: -963229977.0242466\n",
      "Generation 6 - Current best internal CV score: -963229977.0242466\n",
      "\n",
      "5.05 minutes have elapsed. TPOT will close down.\n",
      "TPOT closed during evaluation in one generation.\n",
      "WARNING: TPOT may not provide a good pipeline if TPOT is stopped/interrupted in a early generation.\n",
      "\n",
      "\n",
      "TPOT closed prematurely. Will use the current best pipeline.\n",
      "\n",
      "Best pipeline: RidgeCV(AdaBoostRegressor(AdaBoostRegressor(ExtraTreesRegressor(input_matrix, bootstrap=False, max_features=0.9500000000000001, min_samples_leaf=4, min_samples_split=7, n_estimators=100), learning_rate=0.01, loss=linear, n_estimators=100), learning_rate=0.5, loss=linear, n_estimators=100))\n",
      "[[8.86476329e+01 8.07489126e+01 6.84054153e+00 4.01938872e+02\n",
      "  1.69637636e+02 1.25915700e+02 3.85410000e+00 9.34174000e+01\n",
      "  1.08748500e+02 9.72145100e+03 0.00000000e+00 0.00000000e+00\n",
      "  0.00000000e+00 0.00000000e+00 0.00000000e+00 0.00000000e+00\n",
      "  0.00000000e+00 0.00000000e+00 0.00000000e+00 0.00000000e+00\n",
      "  0.00000000e+00 0.00000000e+00 0.00000000e+00]]\n",
      "Elasped_time 1216.8745584487915\n"
     ]
    },
    {
     "data": {
      "application/vnd.jupyter.widget-view+json": {
       "model_id": "9ce1bd7f4f8e4e48bd97eddfc4353b55",
       "version_major": 2,
       "version_minor": 0
      },
      "text/plain": [
       "HBox(children=(FloatProgress(value=0.0, description='Optimization Progress', style=ProgressStyle(description_w…"
      ]
     },
     "metadata": {},
     "output_type": "display_data"
    },
    {
     "name": "stdout",
     "output_type": "stream",
     "text": [
      "Generation 1 - Current best internal CV score: -1166981782.7666883\n",
      "Generation 2 - Current best internal CV score: -1162634704.645025\n",
      "Generation 3 - Current best internal CV score: -1162634704.645025\n",
      "Generation 4 - Current best internal CV score: -1154957747.7419055\n",
      "Generation 5 - Current best internal CV score: -1154957747.7419055\n",
      "Generation 6 - Current best internal CV score: -1141020395.6946132\n",
      "Generation 7 - Current best internal CV score: -1128390377.8927898\n",
      "\n",
      "5.14 minutes have elapsed. TPOT will close down.\n",
      "TPOT closed during evaluation in one generation.\n",
      "WARNING: TPOT may not provide a good pipeline if TPOT is stopped/interrupted in a early generation.\n",
      "\n",
      "\n",
      "TPOT closed prematurely. Will use the current best pipeline.\n",
      "\n",
      "Best pipeline: RidgeCV(ExtraTreesRegressor(input_matrix, bootstrap=False, max_features=0.6000000000000001, min_samples_leaf=1, min_samples_split=16, n_estimators=100))\n",
      "[[8.83792027e+01 8.01829538e+01 6.87268937e+00 4.02818212e+02\n",
      "  1.69554315e+02 1.26059300e+02 3.85410000e+00 9.34174000e+01\n",
      "  1.09130800e+02 9.72145100e+03 0.00000000e+00 0.00000000e+00\n",
      "  0.00000000e+00 0.00000000e+00 0.00000000e+00 0.00000000e+00\n",
      "  0.00000000e+00 0.00000000e+00 0.00000000e+00 0.00000000e+00\n",
      "  0.00000000e+00 0.00000000e+00 0.00000000e+00]]\n",
      "Elasped_time 1525.4950523376465\n"
     ]
    },
    {
     "data": {
      "application/vnd.jupyter.widget-view+json": {
       "model_id": "03df57b25b7846879e996b4ee657532f",
       "version_major": 2,
       "version_minor": 0
      },
      "text/plain": [
       "HBox(children=(FloatProgress(value=0.0, description='Optimization Progress', style=ProgressStyle(description_w…"
      ]
     },
     "metadata": {},
     "output_type": "display_data"
    },
    {
     "name": "stdout",
     "output_type": "stream",
     "text": [
      "Generation 1 - Current best internal CV score: -1204359405.3633752\n",
      "Generation 2 - Current best internal CV score: -1204359405.3633752\n",
      "Generation 3 - Current best internal CV score: -1204359405.3633752\n",
      "Generation 4 - Current best internal CV score: -1204359405.3633752\n",
      "Generation 5 - Current best internal CV score: -1199205588.810012\n",
      "Generation 6 - Current best internal CV score: -1199205588.810012\n",
      "Generation 7 - Current best internal CV score: -1029592444.8225775\n",
      "\n",
      "5.09 minutes have elapsed. TPOT will close down.\n",
      "TPOT closed during evaluation in one generation.\n",
      "WARNING: TPOT may not provide a good pipeline if TPOT is stopped/interrupted in a early generation.\n",
      "\n",
      "\n",
      "TPOT closed prematurely. Will use the current best pipeline.\n",
      "\n",
      "Best pipeline: KNeighborsRegressor(ExtraTreesRegressor(input_matrix, bootstrap=False, max_features=1.0, min_samples_leaf=2, min_samples_split=12, n_estimators=100), n_neighbors=2, p=2, weights=uniform)\n",
      "[[8.30310179e+01 7.38202287e+01 3.08047694e+00 4.06682867e+02\n",
      "  1.72486835e+02 1.28066500e+02 3.85410000e+00 9.34174000e+01\n",
      "  1.09550100e+02 9.72145100e+03 0.00000000e+00 0.00000000e+00\n",
      "  0.00000000e+00 1.00000000e+00 0.00000000e+00 0.00000000e+00\n",
      "  0.00000000e+00 0.00000000e+00 0.00000000e+00 0.00000000e+00\n",
      "  0.00000000e+00 1.00000000e+00 0.00000000e+00]]\n",
      "Elasped_time 1831.1526930332184\n"
     ]
    },
    {
     "data": {
      "application/vnd.jupyter.widget-view+json": {
       "model_id": "0c2fbcd452e54b5c87dc2f434e0e142d",
       "version_major": 2,
       "version_minor": 0
      },
      "text/plain": [
       "HBox(children=(FloatProgress(value=0.0, description='Optimization Progress', style=ProgressStyle(description_w…"
      ]
     },
     "metadata": {},
     "output_type": "display_data"
    },
    {
     "name": "stdout",
     "output_type": "stream",
     "text": [
      "Generation 1 - Current best internal CV score: -1154703760.8713624\n",
      "Generation 2 - Current best internal CV score: -1154703760.8713624\n",
      "Generation 3 - Current best internal CV score: -1154703760.8713624\n",
      "Generation 4 - Current best internal CV score: -1154703760.8713624\n",
      "Generation 5 - Current best internal CV score: -1154318530.036047\n",
      "Generation 6 - Current best internal CV score: -1154318530.036047\n",
      "Generation 7 - Current best internal CV score: -1110066812.615081\n",
      "Generation 8 - Current best internal CV score: -1110066812.615081\n",
      "\n",
      "5.00 minutes have elapsed. TPOT will close down.\n",
      "TPOT closed during evaluation in one generation.\n",
      "WARNING: TPOT may not provide a good pipeline if TPOT is stopped/interrupted in a early generation.\n",
      "\n",
      "\n",
      "TPOT closed prematurely. Will use the current best pipeline.\n",
      "\n",
      "Best pipeline: LassoLarsCV(DecisionTreeRegressor(ZeroCount(input_matrix), max_depth=9, min_samples_leaf=9, min_samples_split=3), normalize=True)\n",
      "[[7.20591848e+01 6.32762706e+01 2.25821201e+00 4.16567243e+02\n",
      "  1.79415660e+02 1.28880400e+02 3.86450000e+00 9.34174000e+01\n",
      "  1.10626100e+02 9.93793900e+03 0.00000000e+00 0.00000000e+00\n",
      "  0.00000000e+00 0.00000000e+00 1.00000000e+00 0.00000000e+00\n",
      "  0.00000000e+00 0.00000000e+00 0.00000000e+00 0.00000000e+00\n",
      "  0.00000000e+00 0.00000000e+00 0.00000000e+00]]\n",
      "Elasped_time 2131.4662697315216\n",
      "           GSB_4          GSB_5          GSB_6          GSB_7         GSB_8  \\\n",
      "0  213170.660229  254501.281571  329688.503014  355373.914754  339573.27897   \n",
      "\n",
      "         GSB_9        GSB_10  \n",
      "0  278045.8165  212338.85971  \n",
      "                    0\n",
      "GSB_4   213170.660229\n",
      "GSB_5   254501.281571\n",
      "GSB_6   329688.503014\n",
      "GSB_7   355373.914754\n",
      "GSB_8   339573.278970\n",
      "GSB_9   278045.816500\n",
      "GSB_10  212338.859710\n",
      "    index              0\n",
      "0   GSB_4  213170.660229\n",
      "1   GSB_5  254501.281571\n",
      "2   GSB_6  329688.503014\n",
      "3   GSB_7  355373.914754\n",
      "4   GSB_8  339573.278970\n",
      "5   GSB_9  278045.816500\n",
      "6  GSB_10  212338.859710\n",
      "    Brand  Forecast_values\n",
      "0   GSB_4    213170.660229\n",
      "1   GSB_5    254501.281571\n",
      "2   GSB_6    329688.503014\n",
      "3   GSB_7    355373.914754\n",
      "4   GSB_8    339573.278970\n",
      "5   GSB_9    278045.816500\n",
      "6  GSB_10    212338.859710\n",
      "    Brand  Actual_values\n",
      "0   GSB_4     221721.919\n",
      "1   GSB_5     294203.131\n",
      "2   GSB_6     335780.899\n",
      "3   GSB_7     276484.071\n",
      "4   GSB_8     339574.581\n",
      "5   GSB_9     250298.411\n",
      "6  GSB_10     169547.098\n",
      "start_time 1578472651.3348308\n",
      "HBBP\n"
     ]
    },
    {
     "data": {
      "application/vnd.jupyter.widget-view+json": {
       "model_id": "d201494545c24607905620efdc3137fc",
       "version_major": 2,
       "version_minor": 0
      },
      "text/plain": [
       "HBox(children=(FloatProgress(value=0.0, description='Optimization Progress', style=ProgressStyle(description_w…"
      ]
     },
     "metadata": {},
     "output_type": "display_data"
    },
    {
     "name": "stdout",
     "output_type": "stream",
     "text": [
      "Generation 1 - Current best internal CV score: -171556096.69014126\n",
      "Generation 2 - Current best internal CV score: -148615043.72175506\n",
      "Generation 3 - Current best internal CV score: -148615043.72175506\n",
      "Generation 4 - Current best internal CV score: -148615043.72175506\n",
      "Generation 5 - Current best internal CV score: -148615043.72175506\n",
      "Generation 6 - Current best internal CV score: -144613612.37737516\n",
      "Generation 7 - Current best internal CV score: -144613612.37737516\n",
      "Generation 8 - Current best internal CV score: -144613612.37737516\n",
      "Generation 9 - Current best internal CV score: -144613612.37737516\n",
      "\n",
      "5.03 minutes have elapsed. TPOT will close down.\n",
      "TPOT closed during evaluation in one generation.\n",
      "WARNING: TPOT may not provide a good pipeline if TPOT is stopped/interrupted in a early generation.\n",
      "\n",
      "\n",
      "TPOT closed prematurely. Will use the current best pipeline.\n",
      "\n",
      "Best pipeline: ElasticNetCV(XGBRegressor(input_matrix, learning_rate=0.5, max_depth=7, min_child_weight=1, n_estimators=100, nthread=1, objective=reg:squarederror, subsample=0.7500000000000001), l1_ratio=0.8500000000000001, tol=1e-05)\n",
      "[[7.19638573e+01 6.25175831e+01 3.67452435e+00 6.94117810e+02\n",
      "  1.69053543e+02 1.25465700e+02 3.83340000e+00 9.34174000e+01\n",
      "  1.07754800e+02 9.83467580e+03 0.00000000e+00 0.00000000e+00\n",
      "  0.00000000e+00 0.00000000e+00 0.00000000e+00 0.00000000e+00\n",
      "  0.00000000e+00 0.00000000e+00 1.00000000e+00 0.00000000e+00\n",
      "  0.00000000e+00 0.00000000e+00 0.00000000e+00]]\n",
      "Elasped_time 302.0499665737152\n"
     ]
    },
    {
     "data": {
      "application/vnd.jupyter.widget-view+json": {
       "model_id": "8b72ed01c67f40e29231bfb2c1fd107a",
       "version_major": 2,
       "version_minor": 0
      },
      "text/plain": [
       "HBox(children=(FloatProgress(value=0.0, description='Optimization Progress', style=ProgressStyle(description_w…"
      ]
     },
     "metadata": {},
     "output_type": "display_data"
    },
    {
     "name": "stdout",
     "output_type": "stream",
     "text": [
      "Generation 1 - Current best internal CV score: -110141124.84156117\n",
      "Generation 2 - Current best internal CV score: -110141124.84156117\n",
      "Generation 3 - Current best internal CV score: -110141124.84156117\n",
      "Generation 4 - Current best internal CV score: -110141124.84156117\n",
      "Generation 5 - Current best internal CV score: -110141124.84156117\n",
      "Generation 6 - Current best internal CV score: -110141124.84156117\n",
      "Generation 7 - Current best internal CV score: -110141124.84156117\n",
      "Generation 8 - Current best internal CV score: -110141124.84156117\n",
      "Generation 9 - Current best internal CV score: -110141124.84156117\n",
      "Generation 10 - Current best internal CV score: -110141124.84156117\n",
      "Generation 11 - Current best internal CV score: -110141124.84156117\n",
      "Generation 12 - Current best internal CV score: -110141124.84156117\n",
      "\n",
      "5.06 minutes have elapsed. TPOT will close down.\n",
      "TPOT closed during evaluation in one generation.\n",
      "WARNING: TPOT may not provide a good pipeline if TPOT is stopped/interrupted in a early generation.\n",
      "\n",
      "\n",
      "TPOT closed prematurely. Will use the current best pipeline.\n",
      "\n",
      "Best pipeline: XGBRegressor(Nystroem(input_matrix, gamma=0.8, kernel=additive_chi2, n_components=3), learning_rate=0.1, max_depth=8, min_child_weight=1, n_estimators=100, nthread=1, objective=reg:squarederror, subsample=0.8500000000000001)\n",
      "[[7.91658448e+01 6.97021899e+01 4.22271938e+00 7.38684633e+02\n",
      "  1.82785736e+02 1.25561500e+02 3.83340000e+00 9.34174000e+01\n",
      "  1.08116200e+02 9.83467580e+03 0.00000000e+00 0.00000000e+00\n",
      "  1.00000000e+00 0.00000000e+00 0.00000000e+00 0.00000000e+00\n",
      "  0.00000000e+00 0.00000000e+00 0.00000000e+00 0.00000000e+00\n",
      "  0.00000000e+00 0.00000000e+00 0.00000000e+00]]\n",
      "Elasped_time 605.884948015213\n"
     ]
    },
    {
     "data": {
      "application/vnd.jupyter.widget-view+json": {
       "model_id": "17f2631de4c442e88d2a929bb0302a99",
       "version_major": 2,
       "version_minor": 0
      },
      "text/plain": [
       "HBox(children=(FloatProgress(value=0.0, description='Optimization Progress', style=ProgressStyle(description_w…"
      ]
     },
     "metadata": {},
     "output_type": "display_data"
    },
    {
     "name": "stdout",
     "output_type": "stream",
     "text": [
      "Generation 1 - Current best internal CV score: -113938748.34018378\n",
      "Generation 2 - Current best internal CV score: -113938748.34018378\n",
      "Generation 3 - Current best internal CV score: -113938748.34018378\n",
      "Generation 4 - Current best internal CV score: -113938748.34018378\n",
      "Generation 5 - Current best internal CV score: -113938748.34018378\n",
      "Generation 6 - Current best internal CV score: -113938748.34018378\n",
      "Generation 7 - Current best internal CV score: -113938748.34018378\n",
      "Generation 8 - Current best internal CV score: -113938748.34018378\n",
      "Generation 9 - Current best internal CV score: -113938748.34018378\n",
      "\n",
      "5.05 minutes have elapsed. TPOT will close down.\n",
      "TPOT closed during evaluation in one generation.\n",
      "WARNING: TPOT may not provide a good pipeline if TPOT is stopped/interrupted in a early generation.\n",
      "\n",
      "\n",
      "TPOT closed prematurely. Will use the current best pipeline.\n",
      "\n",
      "Best pipeline: RandomForestRegressor(KNeighborsRegressor(XGBRegressor(input_matrix, learning_rate=0.5, max_depth=5, min_child_weight=20, n_estimators=100, nthread=1, objective=reg:squarederror, subsample=1.0), n_neighbors=31, p=1, weights=distance), bootstrap=True, max_features=0.5, min_samples_leaf=9, min_samples_split=10, n_estimators=100)\n",
      "[[8.54816429e+01 7.70712598e+01 6.27293042e+00 7.19941157e+02\n",
      "  1.73627986e+02 1.27126300e+02 3.83340000e+00 9.34174000e+01\n",
      "  1.08352800e+02 9.83467580e+03 0.00000000e+00 1.00000000e+00\n",
      "  0.00000000e+00 0.00000000e+00 0.00000000e+00 0.00000000e+00\n",
      "  0.00000000e+00 0.00000000e+00 0.00000000e+00 0.00000000e+00\n",
      "  0.00000000e+00 1.00000000e+00 1.00000000e+00]]\n",
      "Elasped_time 909.4957666397095\n"
     ]
    },
    {
     "data": {
      "application/vnd.jupyter.widget-view+json": {
       "model_id": "4d219a212a4f4e5ca39e908ad66df69b",
       "version_major": 2,
       "version_minor": 0
      },
      "text/plain": [
       "HBox(children=(FloatProgress(value=0.0, description='Optimization Progress', style=ProgressStyle(description_w…"
      ]
     },
     "metadata": {},
     "output_type": "display_data"
    },
    {
     "name": "stdout",
     "output_type": "stream",
     "text": [
      "Generation 1 - Current best internal CV score: -172323028.66036284\n",
      "Generation 2 - Current best internal CV score: -172323028.66036284\n",
      "Generation 3 - Current best internal CV score: -158062092.76604313\n",
      "Generation 4 - Current best internal CV score: -158062092.76604313\n",
      "Generation 5 - Current best internal CV score: -158062092.76604313\n",
      "Generation 6 - Current best internal CV score: -158062092.76604313\n",
      "Generation 7 - Current best internal CV score: -153884447.19369015\n",
      "Generation 8 - Current best internal CV score: -153884447.19369015\n",
      "Generation 9 - Current best internal CV score: -153884447.19369015\n",
      "Generation 10 - Current best internal CV score: -153884447.19369015\n",
      "Generation 11 - Current best internal CV score: -153884447.19369015\n",
      "Generation 12 - Current best internal CV score: -153884447.19369015\n",
      "\n",
      "5.17 minutes have elapsed. TPOT will close down.\n",
      "TPOT closed during evaluation in one generation.\n",
      "WARNING: TPOT may not provide a good pipeline if TPOT is stopped/interrupted in a early generation.\n",
      "\n",
      "\n",
      "TPOT closed prematurely. Will use the current best pipeline.\n",
      "\n",
      "Best pipeline: XGBRegressor(RandomForestRegressor(input_matrix, bootstrap=True, max_features=0.9000000000000001, min_samples_leaf=6, min_samples_split=19, n_estimators=100), learning_rate=0.5, max_depth=10, min_child_weight=1, n_estimators=100, nthread=1, objective=reg:squarederror, subsample=0.1)\n",
      "[[8.86476329e+01 8.07489126e+01 6.84054153e+00 7.42300011e+02\n",
      "  2.02746525e+02 1.25915700e+02 3.85410000e+00 9.34174000e+01\n",
      "  1.08748500e+02 9.72145100e+03 0.00000000e+00 0.00000000e+00\n",
      "  0.00000000e+00 0.00000000e+00 0.00000000e+00 0.00000000e+00\n",
      "  0.00000000e+00 0.00000000e+00 0.00000000e+00 0.00000000e+00\n",
      "  0.00000000e+00 0.00000000e+00 0.00000000e+00]]\n",
      "Elasped_time 1220.1966099739075\n"
     ]
    },
    {
     "data": {
      "application/vnd.jupyter.widget-view+json": {
       "model_id": "6a338cd88edf4b15820258cc97ba009c",
       "version_major": 2,
       "version_minor": 0
      },
      "text/plain": [
       "HBox(children=(FloatProgress(value=0.0, description='Optimization Progress', style=ProgressStyle(description_w…"
      ]
     },
     "metadata": {},
     "output_type": "display_data"
    },
    {
     "name": "stdout",
     "output_type": "stream",
     "text": [
      "Generation 1 - Current best internal CV score: -168301279.8737845\n",
      "Generation 2 - Current best internal CV score: -168301279.8737845\n",
      "Generation 3 - Current best internal CV score: -158655512.20150387\n",
      "Generation 4 - Current best internal CV score: -158655512.20150387\n",
      "Generation 5 - Current best internal CV score: -146889126.27069217\n",
      "Generation 6 - Current best internal CV score: -146889126.27069217\n",
      "\n",
      "5.04 minutes have elapsed. TPOT will close down.\n",
      "TPOT closed during evaluation in one generation.\n",
      "WARNING: TPOT may not provide a good pipeline if TPOT is stopped/interrupted in a early generation.\n",
      "\n",
      "\n",
      "TPOT closed prematurely. Will use the current best pipeline.\n",
      "\n",
      "Best pipeline: SGDRegressor(RandomForestRegressor(input_matrix, bootstrap=False, max_features=0.4, min_samples_leaf=11, min_samples_split=10, n_estimators=100), alpha=0.0, eta0=0.1, fit_intercept=True, l1_ratio=1.0, learning_rate=invscaling, loss=epsilon_insensitive, penalty=elasticnet, power_t=1.0)\n",
      "[[8.83792027e+01 8.01829538e+01 6.87268937e+00 6.89999913e+02\n",
      "  1.86431603e+02 1.26059300e+02 3.85410000e+00 9.34174000e+01\n",
      "  1.09130800e+02 9.72145100e+03 0.00000000e+00 0.00000000e+00\n",
      "  0.00000000e+00 0.00000000e+00 0.00000000e+00 0.00000000e+00\n",
      "  0.00000000e+00 0.00000000e+00 0.00000000e+00 0.00000000e+00\n",
      "  0.00000000e+00 0.00000000e+00 0.00000000e+00]]\n",
      "Elasped_time 1522.6804406642914\n"
     ]
    },
    {
     "data": {
      "application/vnd.jupyter.widget-view+json": {
       "model_id": "6827545efbce49f2b730b6ff8d6960a7",
       "version_major": 2,
       "version_minor": 0
      },
      "text/plain": [
       "HBox(children=(FloatProgress(value=0.0, description='Optimization Progress', style=ProgressStyle(description_w…"
      ]
     },
     "metadata": {},
     "output_type": "display_data"
    },
    {
     "name": "stdout",
     "output_type": "stream",
     "text": [
      "Generation 1 - Current best internal CV score: -204433019.32863712\n",
      "Generation 2 - Current best internal CV score: -204433019.32863712\n",
      "Generation 3 - Current best internal CV score: -133239909.16453972\n",
      "Generation 4 - Current best internal CV score: -133239909.16453972\n",
      "Generation 5 - Current best internal CV score: -133239909.16453972\n",
      "Generation 6 - Current best internal CV score: -133239909.16453972\n",
      "Generation 7 - Current best internal CV score: -133239909.16453972\n",
      "Generation 8 - Current best internal CV score: -133239909.16453972\n",
      "Generation 9 - Current best internal CV score: -58778055.12804986\n",
      "\n",
      "5.02 minutes have elapsed. TPOT will close down.\n",
      "TPOT closed during evaluation in one generation.\n",
      "WARNING: TPOT may not provide a good pipeline if TPOT is stopped/interrupted in a early generation.\n",
      "\n",
      "\n",
      "TPOT closed prematurely. Will use the current best pipeline.\n",
      "\n",
      "Best pipeline: GradientBoostingRegressor(RidgeCV(FeatureAgglomeration(SGDRegressor(PolynomialFeatures(input_matrix, degree=2, include_bias=False, interaction_only=False), alpha=0.0, eta0=0.1, fit_intercept=False, l1_ratio=0.5, learning_rate=constant, loss=squared_loss, penalty=elasticnet, power_t=0.5), affinity=euclidean, linkage=complete)), alpha=0.8, learning_rate=0.01, loss=lad, max_depth=10, max_features=0.7000000000000001, min_samples_leaf=20, min_samples_split=10, n_estimators=100, subsample=0.9500000000000001)\n",
      "\n",
      "Best pipeline: GradientBoostingRegressor(RidgeCV(FeatureAgglomeration(SGDRegressor(PolynomialFeatures(input_matrix, degree=2, include_bias=False, interaction_only=False), alpha=0.0, eta0=0.1, fit_intercept=False, l1_ratio=0.5, learning_rate=constant, loss=squared_loss, penalty=elasticnet, power_t=0.5), affinity=euclidean, linkage=complete)), alpha=0.8, learning_rate=0.01, loss=lad, max_depth=10, max_features=0.7000000000000001, min_samples_leaf=20, min_samples_split=10, n_estimators=100, subsample=0.9500000000000001)\n",
      "\n",
      "Best pipeline: GradientBoostingRegressor(RidgeCV(FeatureAgglomeration(SGDRegressor(PolynomialFeatures(input_matrix, degree=2, include_bias=False, interaction_only=False), alpha=0.0, eta0=0.1, fit_intercept=False, l1_ratio=0.5, learning_rate=constant, loss=squared_loss, penalty=elasticnet, power_t=0.5), affinity=euclidean, linkage=complete)), alpha=0.8, learning_rate=0.01, loss=lad, max_depth=10, max_features=0.7000000000000001, min_samples_leaf=20, min_samples_split=10, n_estimators=100, subsample=0.9500000000000001)\n",
      "[[8.30310179e+01 7.38202287e+01 3.08047694e+00 6.96949899e+02\n",
      "  2.04279920e+02 1.28066500e+02 3.85410000e+00 9.34174000e+01\n",
      "  1.09550100e+02 9.72145100e+03 0.00000000e+00 0.00000000e+00\n",
      "  0.00000000e+00 1.00000000e+00 0.00000000e+00 0.00000000e+00\n",
      "  0.00000000e+00 0.00000000e+00 0.00000000e+00 0.00000000e+00\n",
      "  0.00000000e+00 1.00000000e+00 0.00000000e+00]]\n",
      "Elasped_time 1824.2336611747742\n"
     ]
    },
    {
     "data": {
      "application/vnd.jupyter.widget-view+json": {
       "model_id": "ae05b97d01134d56b50b2ccbfc4983b1",
       "version_major": 2,
       "version_minor": 0
      },
      "text/plain": [
       "HBox(children=(FloatProgress(value=0.0, description='Optimization Progress', style=ProgressStyle(description_w…"
      ]
     },
     "metadata": {},
     "output_type": "display_data"
    },
    {
     "name": "stdout",
     "output_type": "stream",
     "text": [
      "Generation 1 - Current best internal CV score: -213670682.69961962\n",
      "Generation 2 - Current best internal CV score: -156947987.56179363\n",
      "Generation 3 - Current best internal CV score: -156947987.56179363\n",
      "Generation 4 - Current best internal CV score: -156947987.56179363\n",
      "Generation 5 - Current best internal CV score: -156947987.56179363\n",
      "Generation 6 - Current best internal CV score: -156947987.56179363\n",
      "Generation 7 - Current best internal CV score: -156947987.56179363\n",
      "\n",
      "5.05 minutes have elapsed. TPOT will close down.\n",
      "TPOT closed during evaluation in one generation.\n",
      "WARNING: TPOT may not provide a good pipeline if TPOT is stopped/interrupted in a early generation.\n",
      "\n",
      "\n",
      "TPOT closed prematurely. Will use the current best pipeline.\n",
      "\n",
      "Best pipeline: LinearSVR(input_matrix, C=1.0, dual=True, epsilon=0.0001, loss=squared_epsilon_insensitive, tol=1e-05)\n",
      "[[7.20591848e+01 6.32762706e+01 2.25821201e+00 7.46991725e+02\n",
      "  2.84026366e+02 1.28880400e+02 3.86450000e+00 9.34174000e+01\n",
      "  1.10626100e+02 9.93793900e+03 0.00000000e+00 0.00000000e+00\n",
      "  0.00000000e+00 0.00000000e+00 1.00000000e+00 0.00000000e+00\n",
      "  0.00000000e+00 0.00000000e+00 0.00000000e+00 0.00000000e+00\n",
      "  0.00000000e+00 0.00000000e+00 0.00000000e+00]]\n",
      "Elasped_time 2127.065472841263\n",
      "       HBBP_4        HBBP_5        HBBP_6       HBBP_7      HBBP_8  \\\n",
      "0  12990.4782  11496.616211  17945.155736 -1816.750244 -316.700767   \n",
      "\n",
      "         HBBP_9       HBBP_10  \n",
      "0  11443.541147  17347.398675  \n",
      "                    0\n",
      "HBBP_4   12990.478200\n",
      "HBBP_5   11496.616211\n",
      "HBBP_6   17945.155736\n",
      "HBBP_7   -1816.750244\n",
      "HBBP_8    -316.700767\n",
      "HBBP_9   11443.541147\n",
      "HBBP_10  17347.398675\n",
      "     index             0\n",
      "0   HBBP_4  12990.478200\n",
      "1   HBBP_5  11496.616211\n",
      "2   HBBP_6  17945.155736\n",
      "3   HBBP_7  -1816.750244\n",
      "4   HBBP_8   -316.700767\n",
      "5   HBBP_9  11443.541147\n",
      "6  HBBP_10  17347.398675\n",
      "     Brand  Forecast_values\n",
      "0   HBBP_4     12990.478200\n",
      "1   HBBP_5     11496.616211\n",
      "2   HBBP_6     17945.155736\n",
      "3   HBBP_7     -1816.750244\n",
      "4   HBBP_8      -316.700767\n",
      "5   HBBP_9     11443.541147\n",
      "6  HBBP_10     17347.398675\n",
      "     Brand  Actual_values\n",
      "0   HBBP_4      10139.878\n",
      "1   HBBP_5      12697.693\n",
      "2   HBBP_6      14230.154\n",
      "3   HBBP_7      10268.906\n",
      "4   HBBP_8      11116.213\n",
      "5   HBBP_9       6033.783\n",
      "6  HBBP_10       6343.267\n",
      "start_time 1578474778.420464\n",
      "HBI\n"
     ]
    },
    {
     "data": {
      "application/vnd.jupyter.widget-view+json": {
       "model_id": "d351497efd8c4fe88f87e50108923300",
       "version_major": 2,
       "version_minor": 0
      },
      "text/plain": [
       "HBox(children=(FloatProgress(value=0.0, description='Optimization Progress', style=ProgressStyle(description_w…"
      ]
     },
     "metadata": {},
     "output_type": "display_data"
    },
    {
     "name": "stdout",
     "output_type": "stream",
     "text": [
      "Generation 1 - Current best internal CV score: -2355458135.9381857\n",
      "Generation 2 - Current best internal CV score: -2283341315.4054313\n",
      "Generation 3 - Current best internal CV score: -2261090783.3318415\n",
      "Generation 4 - Current best internal CV score: -2261090783.3318415\n",
      "Generation 5 - Current best internal CV score: -2002666147.643293\n",
      "Generation 6 - Current best internal CV score: -2002666147.643293\n",
      "Generation 7 - Current best internal CV score: -2002426367.7401707\n",
      "Generation 8 - Current best internal CV score: -1920611681.2174752\n",
      "Generation 9 - Current best internal CV score: -1920611681.2174752\n",
      "\n",
      "5.00 minutes have elapsed. TPOT will close down.\n",
      "TPOT closed during evaluation in one generation.\n",
      "WARNING: TPOT may not provide a good pipeline if TPOT is stopped/interrupted in a early generation.\n",
      "\n",
      "\n",
      "TPOT closed prematurely. Will use the current best pipeline.\n",
      "\n",
      "Best pipeline: LassoLarsCV(VarianceThreshold(LinearSVR(input_matrix, C=20.0, dual=True, epsilon=0.0001, loss=squared_epsilon_insensitive, tol=1e-05), threshold=0.05), normalize=False)\n",
      "[[7.19638573e+01 6.25175831e+01 3.67452435e+00 5.58419290e+02\n",
      "  1.80233900e+02 1.25465700e+02 3.83340000e+00 9.34174000e+01\n",
      "  1.07754800e+02 9.83467580e+03 0.00000000e+00 0.00000000e+00\n",
      "  0.00000000e+00 0.00000000e+00 0.00000000e+00 0.00000000e+00\n",
      "  0.00000000e+00 0.00000000e+00 1.00000000e+00 0.00000000e+00\n",
      "  0.00000000e+00 0.00000000e+00 0.00000000e+00]]\n",
      "Elasped_time 300.24122190475464\n"
     ]
    },
    {
     "data": {
      "application/vnd.jupyter.widget-view+json": {
       "model_id": "b18c5ef0bc2f45dd8c9123252893d1cd",
       "version_major": 2,
       "version_minor": 0
      },
      "text/plain": [
       "HBox(children=(FloatProgress(value=0.0, description='Optimization Progress', style=ProgressStyle(description_w…"
      ]
     },
     "metadata": {},
     "output_type": "display_data"
    },
    {
     "name": "stdout",
     "output_type": "stream",
     "text": [
      "Generation 1 - Current best internal CV score: -2577302509.366343\n",
      "\n",
      "6.48 minutes have elapsed. TPOT will close down.\n",
      "TPOT closed during evaluation in one generation.\n",
      "WARNING: TPOT may not provide a good pipeline if TPOT is stopped/interrupted in a early generation.\n",
      "\n",
      "\n",
      "TPOT closed prematurely. Will use the current best pipeline.\n",
      "\n",
      "Best pipeline: LassoLarsCV(input_matrix, normalize=False)\n",
      "[[7.91658448e+01 6.97021899e+01 4.22271938e+00 5.46523487e+02\n",
      "  1.75418843e+02 1.25561500e+02 3.83340000e+00 9.34174000e+01\n",
      "  1.08116200e+02 9.83467580e+03 0.00000000e+00 0.00000000e+00\n",
      "  1.00000000e+00 0.00000000e+00 0.00000000e+00 0.00000000e+00\n",
      "  0.00000000e+00 0.00000000e+00 0.00000000e+00 0.00000000e+00\n",
      "  0.00000000e+00 0.00000000e+00 0.00000000e+00]]\n",
      "Elasped_time 691.1374499797821\n"
     ]
    },
    {
     "data": {
      "application/vnd.jupyter.widget-view+json": {
       "model_id": "0a1f9689c0cb47a481625112c53c51a2",
       "version_major": 2,
       "version_minor": 0
      },
      "text/plain": [
       "HBox(children=(FloatProgress(value=0.0, description='Optimization Progress', style=ProgressStyle(description_w…"
      ]
     },
     "metadata": {},
     "output_type": "display_data"
    },
    {
     "name": "stdout",
     "output_type": "stream",
     "text": [
      "Generation 1 - Current best internal CV score: -3826678590.3111205\n",
      "Generation 2 - Current best internal CV score: -3433982314.536241\n",
      "Generation 3 - Current best internal CV score: -2992758180.9912996\n",
      "Generation 4 - Current best internal CV score: -2992758180.9912996\n",
      "Generation 5 - Current best internal CV score: -2992758180.9912996\n",
      "Generation 6 - Current best internal CV score: -2992758180.9912996\n",
      "\n",
      "5.05 minutes have elapsed. TPOT will close down.\n",
      "TPOT closed during evaluation in one generation.\n",
      "WARNING: TPOT may not provide a good pipeline if TPOT is stopped/interrupted in a early generation.\n",
      "\n",
      "\n",
      "TPOT closed prematurely. Will use the current best pipeline.\n",
      "\n",
      "Best pipeline: AdaBoostRegressor(LassoLarsCV(MaxAbsScaler(input_matrix), normalize=False), learning_rate=0.01, loss=square, n_estimators=100)\n",
      "[[8.54816429e+01 7.70712598e+01 6.27293042e+00 5.46674401e+02\n",
      "  1.92669708e+02 1.27126300e+02 3.83340000e+00 9.34174000e+01\n",
      "  1.08352800e+02 9.83467580e+03 0.00000000e+00 1.00000000e+00\n",
      "  0.00000000e+00 0.00000000e+00 0.00000000e+00 0.00000000e+00\n",
      "  0.00000000e+00 0.00000000e+00 0.00000000e+00 0.00000000e+00\n",
      "  0.00000000e+00 1.00000000e+00 1.00000000e+00]]\n",
      "Elasped_time 995.2888479232788\n"
     ]
    },
    {
     "data": {
      "application/vnd.jupyter.widget-view+json": {
       "model_id": "484a2e81e9084829aac3a7bedd295aee",
       "version_major": 2,
       "version_minor": 0
      },
      "text/plain": [
       "HBox(children=(FloatProgress(value=0.0, description='Optimization Progress', style=ProgressStyle(description_w…"
      ]
     },
     "metadata": {},
     "output_type": "display_data"
    },
    {
     "name": "stdout",
     "output_type": "stream",
     "text": [
      "Generation 1 - Current best internal CV score: -3277140903.4599752\n",
      "Generation 2 - Current best internal CV score: -3277140903.4599752\n",
      "Generation 3 - Current best internal CV score: -3277140903.4599752\n",
      "Generation 4 - Current best internal CV score: -3277140903.4599752\n",
      "Generation 5 - Current best internal CV score: -3277140903.4599752\n",
      "Generation 6 - Current best internal CV score: -3277140903.4599752\n",
      "Generation 7 - Current best internal CV score: -3277140903.4599752\n",
      "Generation 8 - Current best internal CV score: -3270988616.877491\n",
      "\n",
      "5.08 minutes have elapsed. TPOT will close down.\n",
      "TPOT closed during evaluation in one generation.\n",
      "WARNING: TPOT may not provide a good pipeline if TPOT is stopped/interrupted in a early generation.\n",
      "\n",
      "\n",
      "TPOT closed prematurely. Will use the current best pipeline.\n",
      "\n",
      "Best pipeline: ExtraTreesRegressor(input_matrix, bootstrap=False, max_features=0.7500000000000001, min_samples_leaf=1, min_samples_split=7, n_estimators=100)\n",
      "[[8.86476329e+01 8.07489126e+01 6.84054153e+00 5.53041229e+02\n",
      "  1.68141873e+02 1.25915700e+02 3.85410000e+00 9.34174000e+01\n",
      "  1.08748500e+02 9.72145100e+03 0.00000000e+00 0.00000000e+00\n",
      "  0.00000000e+00 0.00000000e+00 0.00000000e+00 0.00000000e+00\n",
      "  0.00000000e+00 0.00000000e+00 0.00000000e+00 0.00000000e+00\n",
      "  0.00000000e+00 0.00000000e+00 0.00000000e+00]]\n",
      "Elasped_time 1300.609828710556\n"
     ]
    },
    {
     "data": {
      "application/vnd.jupyter.widget-view+json": {
       "model_id": "c022365923b145d99c080b16e74c4371",
       "version_major": 2,
       "version_minor": 0
      },
      "text/plain": [
       "HBox(children=(FloatProgress(value=0.0, description='Optimization Progress', style=ProgressStyle(description_w…"
      ]
     },
     "metadata": {},
     "output_type": "display_data"
    },
    {
     "name": "stdout",
     "output_type": "stream",
     "text": [
      "Generation 1 - Current best internal CV score: -3786086475.8423476\n",
      "Generation 2 - Current best internal CV score: -3786086475.8423476\n",
      "Generation 3 - Current best internal CV score: -3754643100.153453\n",
      "Generation 4 - Current best internal CV score: -3435986864.1385055\n",
      "Generation 5 - Current best internal CV score: -3375976619.3498983\n",
      "Generation 6 - Current best internal CV score: -3330784939.0358605\n",
      "\n",
      "5.06 minutes have elapsed. TPOT will close down.\n",
      "TPOT closed during evaluation in one generation.\n",
      "WARNING: TPOT may not provide a good pipeline if TPOT is stopped/interrupted in a early generation.\n",
      "\n",
      "\n",
      "TPOT closed prematurely. Will use the current best pipeline.\n",
      "\n",
      "Best pipeline: ExtraTreesRegressor(input_matrix, bootstrap=False, max_features=1.0, min_samples_leaf=2, min_samples_split=7, n_estimators=100)\n",
      "[[8.83792027e+01 8.01829538e+01 6.87268937e+00 5.49057204e+02\n",
      "  1.85415984e+02 1.26059300e+02 3.85410000e+00 9.34174000e+01\n",
      "  1.09130800e+02 9.72145100e+03 0.00000000e+00 0.00000000e+00\n",
      "  0.00000000e+00 0.00000000e+00 0.00000000e+00 0.00000000e+00\n",
      "  0.00000000e+00 0.00000000e+00 0.00000000e+00 0.00000000e+00\n",
      "  0.00000000e+00 0.00000000e+00 0.00000000e+00]]\n",
      "Elasped_time 1604.5268242359161\n"
     ]
    },
    {
     "data": {
      "application/vnd.jupyter.widget-view+json": {
       "model_id": "fa47c28e0436481ba424913ccb627ddb",
       "version_major": 2,
       "version_minor": 0
      },
      "text/plain": [
       "HBox(children=(FloatProgress(value=0.0, description='Optimization Progress', style=ProgressStyle(description_w…"
      ]
     },
     "metadata": {},
     "output_type": "display_data"
    },
    {
     "name": "stdout",
     "output_type": "stream",
     "text": [
      "Generation 1 - Current best internal CV score: -4609236493.031131\n",
      "Generation 2 - Current best internal CV score: -4609236493.031131\n",
      "Generation 3 - Current best internal CV score: -3677799821.3397646\n",
      "Generation 4 - Current best internal CV score: -3677799821.3397646\n",
      "Generation 5 - Current best internal CV score: -3579282495.1486564\n",
      "Generation 6 - Current best internal CV score: -3579282495.1486564\n",
      "Generation 7 - Current best internal CV score: -3508217554.8912215\n",
      "Generation 8 - Current best internal CV score: -3508217554.8912215\n",
      "Generation 9 - Current best internal CV score: -3508217554.8912215\n",
      "\n",
      "5.26 minutes have elapsed. TPOT will close down.\n",
      "TPOT closed during evaluation in one generation.\n",
      "WARNING: TPOT may not provide a good pipeline if TPOT is stopped/interrupted in a early generation.\n",
      "\n",
      "\n",
      "TPOT closed prematurely. Will use the current best pipeline.\n",
      "\n",
      "Best pipeline: LassoLarsCV(OneHotEncoder(SGDRegressor(input_matrix, alpha=0.001, eta0=1.0, fit_intercept=False, l1_ratio=0.75, learning_rate=constant, loss=epsilon_insensitive, penalty=elasticnet, power_t=50.0), minimum_fraction=0.1, sparse=False, threshold=10), normalize=False)\n",
      "[[8.30310179e+01 7.38202287e+01 3.08047694e+00 5.55082987e+02\n",
      "  1.35212611e+02 1.28066500e+02 3.85410000e+00 9.34174000e+01\n",
      "  1.09550100e+02 9.72145100e+03 0.00000000e+00 0.00000000e+00\n",
      "  0.00000000e+00 1.00000000e+00 0.00000000e+00 0.00000000e+00\n",
      "  0.00000000e+00 0.00000000e+00 0.00000000e+00 0.00000000e+00\n",
      "  0.00000000e+00 1.00000000e+00 0.00000000e+00]]\n",
      "Elasped_time 1920.489652633667\n"
     ]
    },
    {
     "data": {
      "application/vnd.jupyter.widget-view+json": {
       "model_id": "ef242735806e4bb694e0ef323e6fb529",
       "version_major": 2,
       "version_minor": 0
      },
      "text/plain": [
       "HBox(children=(FloatProgress(value=0.0, description='Optimization Progress', style=ProgressStyle(description_w…"
      ]
     },
     "metadata": {},
     "output_type": "display_data"
    },
    {
     "name": "stdout",
     "output_type": "stream",
     "text": [
      "Generation 1 - Current best internal CV score: -3851421165.1338744\n",
      "Generation 2 - Current best internal CV score: -3751833568.7641325\n",
      "Generation 3 - Current best internal CV score: -3751833568.7641325\n",
      "Generation 4 - Current best internal CV score: -3751833568.7641325\n",
      "Generation 5 - Current best internal CV score: -3751833568.7641325\n",
      "Generation 6 - Current best internal CV score: -3751833568.7641325\n",
      "\n",
      "5.51 minutes have elapsed. TPOT will close down.\n",
      "TPOT closed during evaluation in one generation.\n",
      "WARNING: TPOT may not provide a good pipeline if TPOT is stopped/interrupted in a early generation.\n",
      "\n",
      "\n",
      "TPOT closed prematurely. Will use the current best pipeline.\n",
      "\n",
      "Best pipeline: LassoLarsCV(Normalizer(XGBRegressor(input_matrix, learning_rate=0.1, max_depth=5, min_child_weight=8, n_estimators=100, nthread=1, objective=reg:squarederror, subsample=0.25), norm=max), normalize=False)\n",
      "[[7.20591848e+01 6.32762706e+01 2.25821201e+00 5.70399533e+02\n",
      "  1.80066025e+02 1.28880400e+02 3.86450000e+00 9.34174000e+01\n",
      "  1.10626100e+02 9.93793900e+03 0.00000000e+00 0.00000000e+00\n",
      "  0.00000000e+00 0.00000000e+00 1.00000000e+00 0.00000000e+00\n",
      "  0.00000000e+00 0.00000000e+00 0.00000000e+00 0.00000000e+00\n",
      "  0.00000000e+00 0.00000000e+00 0.00000000e+00]]\n",
      "Elasped_time 2251.250756263733\n",
      "           HBI_4          HBI_5         HBI_6          HBI_7         HBI_8  \\\n",
      "0  627563.579338  796353.896719  920689.19168  929788.911956  903985.50514   \n",
      "\n",
      "           HBI_9        HBI_10  \n",
      "0  864706.161856  564488.04894  \n",
      "                    0\n",
      "HBI_4   627563.579338\n",
      "HBI_5   796353.896719\n",
      "HBI_6   920689.191680\n",
      "HBI_7   929788.911956\n",
      "HBI_8   903985.505140\n",
      "HBI_9   864706.161856\n",
      "HBI_10  564488.048940\n",
      "    index              0\n",
      "0   HBI_4  627563.579338\n",
      "1   HBI_5  796353.896719\n",
      "2   HBI_6  920689.191680\n",
      "3   HBI_7  929788.911956\n",
      "4   HBI_8  903985.505140\n",
      "5   HBI_9  864706.161856\n",
      "6  HBI_10  564488.048940\n",
      "    Brand  Forecast_values\n",
      "0   HBI_4    627563.579338\n",
      "1   HBI_5    796353.896719\n",
      "2   HBI_6    920689.191680\n",
      "3   HBI_7    929788.911956\n",
      "4   HBI_8    903985.505140\n",
      "5   HBI_9    864706.161856\n",
      "6  HBI_10    564488.048940\n",
      "    Brand  Actual_values\n",
      "0   HBI_4     688260.501\n",
      "1   HBI_5     929865.850\n",
      "2   HBI_6     974322.636\n",
      "3   HBI_7     891809.766\n",
      "4   HBI_8     994187.864\n",
      "5   HBI_9     775039.909\n",
      "6  HBI_10     537122.121\n",
      "start_time 1578477029.6981483\n",
      "HBO\n"
     ]
    },
    {
     "data": {
      "application/vnd.jupyter.widget-view+json": {
       "model_id": "7c778388db5b46d5aab31d7ab0dc5278",
       "version_major": 2,
       "version_minor": 0
      },
      "text/plain": [
       "HBox(children=(FloatProgress(value=0.0, description='Optimization Progress', style=ProgressStyle(description_w…"
      ]
     },
     "metadata": {},
     "output_type": "display_data"
    },
    {
     "name": "stdout",
     "output_type": "stream",
     "text": [
      "Generation 1 - Current best internal CV score: -11639531021.892359\n",
      "Generation 2 - Current best internal CV score: -8089871954.447171\n",
      "Generation 3 - Current best internal CV score: -8089871954.447171\n",
      "Generation 4 - Current best internal CV score: -8089871954.447171\n",
      "Generation 5 - Current best internal CV score: -8089871954.447171\n",
      "Generation 6 - Current best internal CV score: -8089871954.447171\n",
      "Generation 7 - Current best internal CV score: -8089871954.447171\n",
      "\n",
      "5.18 minutes have elapsed. TPOT will close down.\n",
      "TPOT closed during evaluation in one generation.\n",
      "WARNING: TPOT may not provide a good pipeline if TPOT is stopped/interrupted in a early generation.\n",
      "\n",
      "\n",
      "TPOT closed prematurely. Will use the current best pipeline.\n",
      "\n",
      "Best pipeline: ExtraTreesRegressor(input_matrix, bootstrap=False, max_features=0.8500000000000001, min_samples_leaf=2, min_samples_split=2, n_estimators=100)\n",
      "[[7.19638573e+01 6.25175831e+01 3.67452435e+00 3.52436482e+02\n",
      "  9.08029271e+01 1.25465700e+02 3.83340000e+00 9.34174000e+01\n",
      "  1.07754800e+02 9.83467580e+03 0.00000000e+00 0.00000000e+00\n",
      "  0.00000000e+00 0.00000000e+00 0.00000000e+00 0.00000000e+00\n",
      "  0.00000000e+00 0.00000000e+00 1.00000000e+00 0.00000000e+00\n",
      "  0.00000000e+00 0.00000000e+00 0.00000000e+00]]\n",
      "Elasped_time 311.06431341171265\n"
     ]
    },
    {
     "data": {
      "application/vnd.jupyter.widget-view+json": {
       "model_id": "96729aa5fa2f48478342168dd075dbc7",
       "version_major": 2,
       "version_minor": 0
      },
      "text/plain": [
       "HBox(children=(FloatProgress(value=0.0, description='Optimization Progress', style=ProgressStyle(description_w…"
      ]
     },
     "metadata": {},
     "output_type": "display_data"
    },
    {
     "name": "stdout",
     "output_type": "stream",
     "text": [
      "Generation 1 - Current best internal CV score: -11166932257.092203\n",
      "Generation 2 - Current best internal CV score: -11166932257.092203\n",
      "Generation 3 - Current best internal CV score: -11166932257.092203\n",
      "Generation 4 - Current best internal CV score: -9021835938.706165\n",
      "Generation 5 - Current best internal CV score: -8199952310.273778\n",
      "\n",
      "5.05 minutes have elapsed. TPOT will close down.\n",
      "TPOT closed during evaluation in one generation.\n",
      "WARNING: TPOT may not provide a good pipeline if TPOT is stopped/interrupted in a early generation.\n",
      "\n",
      "\n",
      "TPOT closed prematurely. Will use the current best pipeline.\n",
      "\n",
      "Best pipeline: ExtraTreesRegressor(ElasticNetCV(input_matrix, l1_ratio=0.7000000000000001, tol=1e-05), bootstrap=False, max_features=0.6500000000000001, min_samples_leaf=2, min_samples_split=2, n_estimators=100)\n",
      "[[7.91658448e+01 6.97021899e+01 4.22271938e+00 3.46280024e+02\n",
      "  8.67278453e+01 1.25561500e+02 3.83340000e+00 9.34174000e+01\n",
      "  1.08116200e+02 9.83467580e+03 0.00000000e+00 0.00000000e+00\n",
      "  1.00000000e+00 0.00000000e+00 0.00000000e+00 0.00000000e+00\n",
      "  0.00000000e+00 0.00000000e+00 0.00000000e+00 0.00000000e+00\n",
      "  0.00000000e+00 0.00000000e+00 0.00000000e+00]]\n",
      "Elasped_time 614.8073086738586\n"
     ]
    },
    {
     "data": {
      "application/vnd.jupyter.widget-view+json": {
       "model_id": "ac43211ca5a54ccda0e1a484c87a2227",
       "version_major": 2,
       "version_minor": 0
      },
      "text/plain": [
       "HBox(children=(FloatProgress(value=0.0, description='Optimization Progress', style=ProgressStyle(description_w…"
      ]
     },
     "metadata": {},
     "output_type": "display_data"
    },
    {
     "name": "stdout",
     "output_type": "stream",
     "text": [
      "Generation 1 - Current best internal CV score: -13392822180.276728\n",
      "Generation 2 - Current best internal CV score: -8194089457.640726\n",
      "Generation 3 - Current best internal CV score: -8194089457.640726\n",
      "Generation 4 - Current best internal CV score: -8194089457.640726\n",
      "Generation 5 - Current best internal CV score: -8194089457.640726\n",
      "\n",
      "5.37 minutes have elapsed. TPOT will close down.\n",
      "TPOT closed during evaluation in one generation.\n",
      "WARNING: TPOT may not provide a good pipeline if TPOT is stopped/interrupted in a early generation.\n",
      "\n",
      "\n",
      "TPOT closed prematurely. Will use the current best pipeline.\n",
      "\n",
      "Best pipeline: AdaBoostRegressor(ExtraTreesRegressor(input_matrix, bootstrap=False, max_features=0.8500000000000001, min_samples_leaf=3, min_samples_split=11, n_estimators=100), learning_rate=0.5, loss=exponential, n_estimators=100)\n",
      "[[8.54816429e+01 7.70712598e+01 6.27293042e+00 3.47963229e+02\n",
      "  8.71377609e+01 1.27126300e+02 3.83340000e+00 9.34174000e+01\n",
      "  1.08352800e+02 9.83467580e+03 0.00000000e+00 1.00000000e+00\n",
      "  0.00000000e+00 0.00000000e+00 0.00000000e+00 0.00000000e+00\n",
      "  0.00000000e+00 0.00000000e+00 0.00000000e+00 0.00000000e+00\n",
      "  0.00000000e+00 1.00000000e+00 1.00000000e+00]]\n",
      "Elasped_time 937.9871318340302\n"
     ]
    },
    {
     "data": {
      "application/vnd.jupyter.widget-view+json": {
       "model_id": "8a561cf68d2b46db9d867a180c14838b",
       "version_major": 2,
       "version_minor": 0
      },
      "text/plain": [
       "HBox(children=(FloatProgress(value=0.0, description='Optimization Progress', style=ProgressStyle(description_w…"
      ]
     },
     "metadata": {},
     "output_type": "display_data"
    },
    {
     "name": "stdout",
     "output_type": "stream",
     "text": [
      "Generation 1 - Current best internal CV score: -11738379110.367142\n",
      "Generation 2 - Current best internal CV score: -11738379110.367142\n",
      "Generation 3 - Current best internal CV score: -9553492546.309488\n",
      "Generation 4 - Current best internal CV score: -9553492546.309488\n",
      "Generation 5 - Current best internal CV score: -8867870310.270147\n",
      "\n",
      "5.08 minutes have elapsed. TPOT will close down.\n",
      "TPOT closed during evaluation in one generation.\n",
      "WARNING: TPOT may not provide a good pipeline if TPOT is stopped/interrupted in a early generation.\n",
      "\n",
      "\n",
      "TPOT closed prematurely. Will use the current best pipeline.\n",
      "\n",
      "Best pipeline: LassoLarsCV(StandardScaler(SelectPercentile(ExtraTreesRegressor(KNeighborsRegressor(input_matrix, n_neighbors=9, p=1, weights=uniform), bootstrap=True, max_features=0.3, min_samples_leaf=16, min_samples_split=20, n_estimators=100), percentile=80)), normalize=False)\n",
      "[[8.86476329e+01 8.07489126e+01 6.84054153e+00 3.43975840e+02\n",
      "  9.28988863e+01 1.25915700e+02 3.85410000e+00 9.34174000e+01\n",
      "  1.08748500e+02 9.72145100e+03 0.00000000e+00 0.00000000e+00\n",
      "  0.00000000e+00 0.00000000e+00 0.00000000e+00 0.00000000e+00\n",
      "  0.00000000e+00 0.00000000e+00 0.00000000e+00 0.00000000e+00\n",
      "  0.00000000e+00 0.00000000e+00 0.00000000e+00]]\n",
      "Elasped_time 1244.2587518692017\n"
     ]
    },
    {
     "data": {
      "application/vnd.jupyter.widget-view+json": {
       "model_id": "efde0ba129a648c2b74a4b096c5d6375",
       "version_major": 2,
       "version_minor": 0
      },
      "text/plain": [
       "HBox(children=(FloatProgress(value=0.0, description='Optimization Progress', style=ProgressStyle(description_w…"
      ]
     },
     "metadata": {},
     "output_type": "display_data"
    },
    {
     "name": "stdout",
     "output_type": "stream",
     "text": [
      "Generation 1 - Current best internal CV score: -9564265947.855295\n",
      "Generation 2 - Current best internal CV score: -9564265947.855295\n",
      "Generation 3 - Current best internal CV score: -9564265947.855295\n",
      "Generation 4 - Current best internal CV score: -9564265947.855295\n",
      "Generation 5 - Current best internal CV score: -9564265947.855295\n",
      "Generation 6 - Current best internal CV score: -9536034133.684006\n",
      "Generation 7 - Current best internal CV score: -9536034133.684006\n",
      "\n",
      "5.13 minutes have elapsed. TPOT will close down.\n",
      "TPOT closed during evaluation in one generation.\n",
      "WARNING: TPOT may not provide a good pipeline if TPOT is stopped/interrupted in a early generation.\n",
      "\n",
      "\n",
      "TPOT closed prematurely. Will use the current best pipeline.\n",
      "\n",
      "Best pipeline: LassoLarsCV(LinearSVR(Normalizer(input_matrix, norm=max), C=0.5, dual=True, epsilon=0.0001, loss=squared_epsilon_insensitive, tol=0.1), normalize=True)\n",
      "[[8.83792027e+01 8.01829538e+01 6.87268937e+00 3.51184823e+02\n",
      "  9.26330792e+01 1.26059300e+02 3.85410000e+00 9.34174000e+01\n",
      "  1.09130800e+02 9.72145100e+03 0.00000000e+00 0.00000000e+00\n",
      "  0.00000000e+00 0.00000000e+00 0.00000000e+00 0.00000000e+00\n",
      "  0.00000000e+00 0.00000000e+00 0.00000000e+00 0.00000000e+00\n",
      "  0.00000000e+00 0.00000000e+00 0.00000000e+00]]\n",
      "Elasped_time 1552.4236407279968\n"
     ]
    },
    {
     "data": {
      "application/vnd.jupyter.widget-view+json": {
       "model_id": "edd86e24a8c3480a9464d601476298b3",
       "version_major": 2,
       "version_minor": 0
      },
      "text/plain": [
       "HBox(children=(FloatProgress(value=0.0, description='Optimization Progress', style=ProgressStyle(description_w…"
      ]
     },
     "metadata": {},
     "output_type": "display_data"
    },
    {
     "name": "stdout",
     "output_type": "stream",
     "text": [
      "Generation 1 - Current best internal CV score: -10359439903.314466\n",
      "Generation 2 - Current best internal CV score: -10359439903.314466\n",
      "Generation 3 - Current best internal CV score: -10359439903.314466\n",
      "Generation 4 - Current best internal CV score: -10359439903.314466\n",
      "Generation 5 - Current best internal CV score: -10321659215.004246\n",
      "Generation 6 - Current best internal CV score: -9291030711.154116\n",
      "\n",
      "5.24 minutes have elapsed. TPOT will close down.\n",
      "TPOT closed during evaluation in one generation.\n",
      "WARNING: TPOT may not provide a good pipeline if TPOT is stopped/interrupted in a early generation.\n",
      "\n",
      "\n",
      "TPOT closed prematurely. Will use the current best pipeline.\n",
      "\n",
      "Best pipeline: ExtraTreesRegressor(input_matrix, bootstrap=False, max_features=0.6500000000000001, min_samples_leaf=2, min_samples_split=3, n_estimators=100)\n",
      "[[8.30310179e+01 7.38202287e+01 3.08047694e+00 3.50174825e+02\n",
      "  1.03496900e+02 1.28066500e+02 3.85410000e+00 9.34174000e+01\n",
      "  1.09550100e+02 9.72145100e+03 0.00000000e+00 0.00000000e+00\n",
      "  0.00000000e+00 1.00000000e+00 0.00000000e+00 0.00000000e+00\n",
      "  0.00000000e+00 0.00000000e+00 0.00000000e+00 0.00000000e+00\n",
      "  0.00000000e+00 1.00000000e+00 0.00000000e+00]]\n",
      "Elasped_time 1867.1021511554718\n"
     ]
    },
    {
     "data": {
      "application/vnd.jupyter.widget-view+json": {
       "model_id": "914cec736ef74abebe2459c5c503f55d",
       "version_major": 2,
       "version_minor": 0
      },
      "text/plain": [
       "HBox(children=(FloatProgress(value=0.0, description='Optimization Progress', style=ProgressStyle(description_w…"
      ]
     },
     "metadata": {},
     "output_type": "display_data"
    },
    {
     "name": "stdout",
     "output_type": "stream",
     "text": [
      "Generation 1 - Current best internal CV score: -10832426481.126625\n",
      "Generation 2 - Current best internal CV score: -10011310010.360357\n",
      "Generation 3 - Current best internal CV score: -10011310010.360357\n",
      "Generation 4 - Current best internal CV score: -10011310010.360357\n",
      "Generation 5 - Current best internal CV score: -6717498585.0283785\n",
      "\n",
      "5.08 minutes have elapsed. TPOT will close down.\n",
      "TPOT closed during evaluation in one generation.\n",
      "WARNING: TPOT may not provide a good pipeline if TPOT is stopped/interrupted in a early generation.\n",
      "\n",
      "\n",
      "TPOT closed prematurely. Will use the current best pipeline.\n",
      "\n",
      "Best pipeline: ExtraTreesRegressor(input_matrix, bootstrap=False, max_features=0.8, min_samples_leaf=1, min_samples_split=4, n_estimators=100)\n",
      "[[7.20591848e+01 6.32762706e+01 2.25821201e+00 3.70146413e+02\n",
      "  1.04236877e+02 1.28880400e+02 3.86450000e+00 9.34174000e+01\n",
      "  1.10626100e+02 9.93793900e+03 0.00000000e+00 0.00000000e+00\n",
      "  0.00000000e+00 0.00000000e+00 1.00000000e+00 0.00000000e+00\n",
      "  0.00000000e+00 0.00000000e+00 0.00000000e+00 0.00000000e+00\n",
      "  0.00000000e+00 0.00000000e+00 0.00000000e+00]]\n",
      "Elasped_time 2173.5743296146393\n",
      "           HBO_4         HBO_5       HBO_6         HBO_7         HBO_8  \\\n",
      "0  952411.362538  1.160529e+06  1409459.49  1.389836e+06  1.327703e+06   \n",
      "\n",
      "          HBO_9         HBO_10  \n",
      "0  1.041919e+06  736529.826962  \n",
      "                   0\n",
      "HBO_4   9.524114e+05\n",
      "HBO_5   1.160529e+06\n",
      "HBO_6   1.409459e+06\n",
      "HBO_7   1.389836e+06\n",
      "HBO_8   1.327703e+06\n",
      "HBO_9   1.041919e+06\n",
      "HBO_10  7.365298e+05\n",
      "    index             0\n",
      "0   HBO_4  9.524114e+05\n",
      "1   HBO_5  1.160529e+06\n",
      "2   HBO_6  1.409459e+06\n",
      "3   HBO_7  1.389836e+06\n",
      "4   HBO_8  1.327703e+06\n",
      "5   HBO_9  1.041919e+06\n",
      "6  HBO_10  7.365298e+05\n",
      "    Brand  Forecast_values\n",
      "0   HBO_4     9.524114e+05\n",
      "1   HBO_5     1.160529e+06\n",
      "2   HBO_6     1.409459e+06\n",
      "3   HBO_7     1.389836e+06\n",
      "4   HBO_8     1.327703e+06\n",
      "5   HBO_9     1.041919e+06\n",
      "6  HBO_10     7.365298e+05\n",
      "    Brand  Actual_values\n",
      "0   HBO_4     922657.255\n",
      "1   HBO_5    1234498.063\n",
      "2   HBO_6    1358146.112\n",
      "3   HBO_7    1220492.595\n",
      "4   HBO_8    1448855.589\n",
      "5   HBO_9    1022205.832\n",
      "6  HBO_10     639673.773\n",
      "start_time 1578479203.2984083\n",
      "HKOW\n"
     ]
    },
    {
     "data": {
      "application/vnd.jupyter.widget-view+json": {
       "model_id": "9e27fe25b1de4c20973f784c235903b1",
       "version_major": 2,
       "version_minor": 0
      },
      "text/plain": [
       "HBox(children=(FloatProgress(value=0.0, description='Optimization Progress', style=ProgressStyle(description_w…"
      ]
     },
     "metadata": {},
     "output_type": "display_data"
    },
    {
     "name": "stdout",
     "output_type": "stream",
     "text": [
      "Generation 1 - Current best internal CV score: -2408510247.03171\n",
      "Generation 2 - Current best internal CV score: -2348315620.846453\n",
      "Generation 3 - Current best internal CV score: -2077671558.4029171\n",
      "Generation 4 - Current best internal CV score: -2077671558.4029171\n",
      "Generation 5 - Current best internal CV score: -2077671558.4029171\n",
      "Generation 6 - Current best internal CV score: -2077671558.4029171\n",
      "Generation 7 - Current best internal CV score: -2077671558.4029171\n",
      "\n",
      "5.06 minutes have elapsed. TPOT will close down.\n",
      "TPOT closed during evaluation in one generation.\n",
      "WARNING: TPOT may not provide a good pipeline if TPOT is stopped/interrupted in a early generation.\n",
      "\n",
      "\n",
      "TPOT closed prematurely. Will use the current best pipeline.\n",
      "\n",
      "Best pipeline: LassoLarsCV(SelectPercentile(input_matrix, percentile=67), normalize=False)\n",
      "[[7.19638573e+01 6.25175831e+01 3.67452435e+00 4.32744877e+02\n",
      "  1.10687865e+02 1.25465700e+02 3.83340000e+00 9.34174000e+01\n",
      "  1.07754800e+02 9.83467580e+03 0.00000000e+00 0.00000000e+00\n",
      "  0.00000000e+00 0.00000000e+00 0.00000000e+00 0.00000000e+00\n",
      "  0.00000000e+00 0.00000000e+00 1.00000000e+00 0.00000000e+00\n",
      "  0.00000000e+00 0.00000000e+00 0.00000000e+00]]\n",
      "Elasped_time 303.70858359336853\n"
     ]
    },
    {
     "data": {
      "application/vnd.jupyter.widget-view+json": {
       "model_id": "e63a023721484406907756acdead70ec",
       "version_major": 2,
       "version_minor": 0
      },
      "text/plain": [
       "HBox(children=(FloatProgress(value=0.0, description='Optimization Progress', style=ProgressStyle(description_w…"
      ]
     },
     "metadata": {},
     "output_type": "display_data"
    },
    {
     "name": "stdout",
     "output_type": "stream",
     "text": [
      "Generation 1 - Current best internal CV score: -2488125724.2805433\n",
      "Generation 2 - Current best internal CV score: -2185128391.5292425\n",
      "Generation 3 - Current best internal CV score: -2185128391.5292425\n",
      "Generation 4 - Current best internal CV score: -1706520529.0307796\n",
      "Generation 5 - Current best internal CV score: -1704994095.3913226\n",
      "Generation 6 - Current best internal CV score: -1704994095.3913226\n",
      "Generation 7 - Current best internal CV score: -1704994095.3913226\n",
      "Generation 8 - Current best internal CV score: -1704994095.3913226\n",
      "\n",
      "5.06 minutes have elapsed. TPOT will close down.\n",
      "TPOT closed during evaluation in one generation.\n",
      "WARNING: TPOT may not provide a good pipeline if TPOT is stopped/interrupted in a early generation.\n",
      "\n",
      "\n",
      "TPOT closed prematurely. Will use the current best pipeline.\n",
      "\n",
      "Best pipeline: LassoLarsCV(SelectPercentile(input_matrix, percentile=31), normalize=True)\n",
      "[[7.91658448e+01 6.97021899e+01 4.22271938e+00 4.42882738e+02\n",
      "  1.17505338e+02 1.25561500e+02 3.83340000e+00 9.34174000e+01\n",
      "  1.08116200e+02 9.83467580e+03 0.00000000e+00 0.00000000e+00\n",
      "  1.00000000e+00 0.00000000e+00 0.00000000e+00 0.00000000e+00\n",
      "  0.00000000e+00 0.00000000e+00 0.00000000e+00 0.00000000e+00\n",
      "  0.00000000e+00 0.00000000e+00 0.00000000e+00]]\n",
      "Elasped_time 607.2471017837524\n"
     ]
    },
    {
     "data": {
      "application/vnd.jupyter.widget-view+json": {
       "model_id": "301f9f9e48864deaabe1a7c9b75d0ed9",
       "version_major": 2,
       "version_minor": 0
      },
      "text/plain": [
       "HBox(children=(FloatProgress(value=0.0, description='Optimization Progress', style=ProgressStyle(description_w…"
      ]
     },
     "metadata": {},
     "output_type": "display_data"
    },
    {
     "name": "stdout",
     "output_type": "stream",
     "text": [
      "Generation 1 - Current best internal CV score: -2581900298.515004\n",
      "Generation 2 - Current best internal CV score: -2581900298.515004\n",
      "Generation 3 - Current best internal CV score: -2581900298.515004\n",
      "Generation 4 - Current best internal CV score: -1933157211.0457394\n",
      "Generation 5 - Current best internal CV score: -1933157211.0457394\n",
      "Generation 6 - Current best internal CV score: -1933157211.0457394\n",
      "Generation 7 - Current best internal CV score: -1933157211.0457394\n",
      "\n",
      "5.16 minutes have elapsed. TPOT will close down.\n",
      "TPOT closed during evaluation in one generation.\n",
      "WARNING: TPOT may not provide a good pipeline if TPOT is stopped/interrupted in a early generation.\n",
      "\n",
      "\n",
      "TPOT closed prematurely. Will use the current best pipeline.\n",
      "\n",
      "Best pipeline: LassoLarsCV(SelectPercentile(ElasticNetCV(input_matrix, l1_ratio=0.6000000000000001, tol=1e-05), percentile=29), normalize=True)\n",
      "[[8.54816429e+01 7.70712598e+01 6.27293042e+00 4.48226584e+02\n",
      "  1.18948470e+02 1.27126300e+02 3.83340000e+00 9.34174000e+01\n",
      "  1.08352800e+02 9.83467580e+03 0.00000000e+00 1.00000000e+00\n",
      "  0.00000000e+00 0.00000000e+00 0.00000000e+00 0.00000000e+00\n",
      "  0.00000000e+00 0.00000000e+00 0.00000000e+00 0.00000000e+00\n",
      "  0.00000000e+00 1.00000000e+00 1.00000000e+00]]\n",
      "Elasped_time 917.519469499588\n"
     ]
    },
    {
     "data": {
      "application/vnd.jupyter.widget-view+json": {
       "model_id": "c24232d4a8974dfc868b1ba2e5b622eb",
       "version_major": 2,
       "version_minor": 0
      },
      "text/plain": [
       "HBox(children=(FloatProgress(value=0.0, description='Optimization Progress', style=ProgressStyle(description_w…"
      ]
     },
     "metadata": {},
     "output_type": "display_data"
    },
    {
     "name": "stdout",
     "output_type": "stream",
     "text": [
      "Generation 1 - Current best internal CV score: -2965977085.8886085\n",
      "Generation 2 - Current best internal CV score: -2965977085.8886085\n",
      "Generation 3 - Current best internal CV score: -2962656934.8942046\n",
      "Generation 4 - Current best internal CV score: -2656619268.961745\n",
      "Generation 5 - Current best internal CV score: -2656619268.961745\n",
      "Generation 6 - Current best internal CV score: -2582547710.457101\n",
      "\n",
      "5.05 minutes have elapsed. TPOT will close down.\n",
      "TPOT closed during evaluation in one generation.\n",
      "WARNING: TPOT may not provide a good pipeline if TPOT is stopped/interrupted in a early generation.\n",
      "\n",
      "\n",
      "TPOT closed prematurely. Will use the current best pipeline.\n",
      "\n",
      "Best pipeline: LassoLarsCV(MaxAbsScaler(input_matrix), normalize=False)\n",
      "[[8.86476329e+01 8.07489126e+01 6.84054153e+00 4.41875239e+02\n",
      "  1.18228947e+02 1.25915700e+02 3.85410000e+00 9.34174000e+01\n",
      "  1.08748500e+02 9.72145100e+03 0.00000000e+00 0.00000000e+00\n",
      "  0.00000000e+00 0.00000000e+00 0.00000000e+00 0.00000000e+00\n",
      "  0.00000000e+00 0.00000000e+00 0.00000000e+00 0.00000000e+00\n",
      "  0.00000000e+00 0.00000000e+00 0.00000000e+00]]\n",
      "Elasped_time 1220.9337983131409\n"
     ]
    },
    {
     "data": {
      "application/vnd.jupyter.widget-view+json": {
       "model_id": "c7f2ce46a042421c8c47826182f75aaa",
       "version_major": 2,
       "version_minor": 0
      },
      "text/plain": [
       "HBox(children=(FloatProgress(value=0.0, description='Optimization Progress', style=ProgressStyle(description_w…"
      ]
     },
     "metadata": {},
     "output_type": "display_data"
    },
    {
     "name": "stdout",
     "output_type": "stream",
     "text": [
      "Generation 1 - Current best internal CV score: -3209904008.4398546\n",
      "Generation 2 - Current best internal CV score: -2462140176.2039766\n",
      "Generation 3 - Current best internal CV score: -2462140176.2039766\n",
      "Generation 4 - Current best internal CV score: -2462140176.2039766\n",
      "Generation 5 - Current best internal CV score: -2462140176.2039766\n",
      "Generation 6 - Current best internal CV score: -2462140176.2039766\n",
      "Generation 7 - Current best internal CV score: -2462140176.2039766\n",
      "Generation 8 - Current best internal CV score: -2462140176.2039766\n",
      "\n",
      "5.03 minutes have elapsed. TPOT will close down.\n",
      "TPOT closed during evaluation in one generation.\n",
      "WARNING: TPOT may not provide a good pipeline if TPOT is stopped/interrupted in a early generation.\n",
      "\n",
      "\n",
      "TPOT closed prematurely. Will use the current best pipeline.\n",
      "\n",
      "Best pipeline: LassoLarsCV(MaxAbsScaler(input_matrix), normalize=False)\n",
      "[[8.83792027e+01 8.01829538e+01 6.87268937e+00 4.31933380e+02\n",
      "  1.06605640e+02 1.26059300e+02 3.85410000e+00 9.34174000e+01\n",
      "  1.09130800e+02 9.72145100e+03 0.00000000e+00 0.00000000e+00\n",
      "  0.00000000e+00 0.00000000e+00 0.00000000e+00 0.00000000e+00\n",
      "  0.00000000e+00 0.00000000e+00 0.00000000e+00 0.00000000e+00\n",
      "  0.00000000e+00 0.00000000e+00 0.00000000e+00]]\n",
      "Elasped_time 1523.2754032611847\n"
     ]
    },
    {
     "data": {
      "application/vnd.jupyter.widget-view+json": {
       "model_id": "a6edab501e93461db9fddea125772d03",
       "version_major": 2,
       "version_minor": 0
      },
      "text/plain": [
       "HBox(children=(FloatProgress(value=0.0, description='Optimization Progress', style=ProgressStyle(description_w…"
      ]
     },
     "metadata": {},
     "output_type": "display_data"
    },
    {
     "name": "stdout",
     "output_type": "stream",
     "text": [
      "Generation 1 - Current best internal CV score: -3640348013.5054383\n",
      "Generation 2 - Current best internal CV score: -2565963134.6139116\n",
      "Generation 3 - Current best internal CV score: -2565963134.6139116\n",
      "Generation 4 - Current best internal CV score: -2565963134.6139116\n",
      "Generation 5 - Current best internal CV score: -2565963134.6139116\n",
      "Generation 6 - Current best internal CV score: -2565963134.6139116\n",
      "Generation 7 - Current best internal CV score: -2565963134.6139116\n",
      "Generation 8 - Current best internal CV score: -2565963134.6139116\n",
      "\n",
      "5.11 minutes have elapsed. TPOT will close down.\n",
      "TPOT closed during evaluation in one generation.\n",
      "WARNING: TPOT may not provide a good pipeline if TPOT is stopped/interrupted in a early generation.\n",
      "\n",
      "\n",
      "TPOT closed prematurely. Will use the current best pipeline.\n",
      "\n",
      "Best pipeline: LassoLarsCV(MaxAbsScaler(input_matrix), normalize=False)\n",
      "[[8.30310179e+01 7.38202287e+01 3.08047694e+00 4.37457466e+02\n",
      "  1.14092961e+02 1.28066500e+02 3.85410000e+00 9.34174000e+01\n",
      "  1.09550100e+02 9.72145100e+03 0.00000000e+00 0.00000000e+00\n",
      "  0.00000000e+00 1.00000000e+00 0.00000000e+00 0.00000000e+00\n",
      "  0.00000000e+00 0.00000000e+00 0.00000000e+00 0.00000000e+00\n",
      "  0.00000000e+00 1.00000000e+00 0.00000000e+00]]\n",
      "Elasped_time 1830.0777640342712\n"
     ]
    },
    {
     "data": {
      "application/vnd.jupyter.widget-view+json": {
       "model_id": "9718d986b99949bd962bd7744d529d17",
       "version_major": 2,
       "version_minor": 0
      },
      "text/plain": [
       "HBox(children=(FloatProgress(value=0.0, description='Optimization Progress', style=ProgressStyle(description_w…"
      ]
     },
     "metadata": {},
     "output_type": "display_data"
    },
    {
     "name": "stdout",
     "output_type": "stream",
     "text": [
      "Generation 1 - Current best internal CV score: -3574493956.204402\n",
      "Generation 2 - Current best internal CV score: -3574493956.204402\n",
      "Generation 3 - Current best internal CV score: -3546524510.8094163\n",
      "Generation 4 - Current best internal CV score: -2756575601.700145\n",
      "Generation 5 - Current best internal CV score: -2525758308.881266\n",
      "Generation 6 - Current best internal CV score: -2420428501.110701\n",
      "Generation 7 - Current best internal CV score: -2396915562.981111\n",
      "\n",
      "5.18 minutes have elapsed. TPOT will close down.\n",
      "TPOT closed during evaluation in one generation.\n",
      "WARNING: TPOT may not provide a good pipeline if TPOT is stopped/interrupted in a early generation.\n",
      "\n",
      "\n",
      "TPOT closed prematurely. Will use the current best pipeline.\n",
      "\n",
      "Best pipeline: ExtraTreesRegressor(MaxAbsScaler(ZeroCount(input_matrix)), bootstrap=False, max_features=0.8500000000000001, min_samples_leaf=2, min_samples_split=2, n_estimators=100)\n",
      "[[7.20591848e+01 6.32762706e+01 2.25821201e+00 4.41126950e+02\n",
      "  1.38334379e+02 1.28880400e+02 3.86450000e+00 9.34174000e+01\n",
      "  1.10626100e+02 9.93793900e+03 0.00000000e+00 0.00000000e+00\n",
      "  0.00000000e+00 0.00000000e+00 1.00000000e+00 0.00000000e+00\n",
      "  0.00000000e+00 0.00000000e+00 0.00000000e+00 0.00000000e+00\n",
      "  0.00000000e+00 0.00000000e+00 0.00000000e+00]]\n",
      "Elasped_time 2141.603291988373\n",
      "          HKOW_4        HKOW_5         HKOW_6        HKOW_7         HKOW_8  \\\n",
      "0  485590.424884  512313.65287  564517.581149  602066.09975  600659.186343   \n",
      "\n",
      "          HKOW_9        HKOW_10  \n",
      "0  507258.917976  346808.488381  \n",
      "                     0\n",
      "HKOW_4   485590.424884\n",
      "HKOW_5   512313.652870\n",
      "HKOW_6   564517.581149\n",
      "HKOW_7   602066.099750\n",
      "HKOW_8   600659.186343\n",
      "HKOW_9   507258.917976\n",
      "HKOW_10  346808.488381\n",
      "     index              0\n",
      "0   HKOW_4  485590.424884\n",
      "1   HKOW_5  512313.652870\n",
      "2   HKOW_6  564517.581149\n",
      "3   HKOW_7  602066.099750\n",
      "4   HKOW_8  600659.186343\n",
      "5   HKOW_9  507258.917976\n",
      "6  HKOW_10  346808.488381\n",
      "     Brand  Forecast_values\n",
      "0   HKOW_4    485590.424884\n",
      "1   HKOW_5    512313.652870\n",
      "2   HKOW_6    564517.581149\n",
      "3   HKOW_7    602066.099750\n",
      "4   HKOW_8    600659.186343\n",
      "5   HKOW_9    507258.917976\n",
      "6  HKOW_10    346808.488381\n",
      "     Brand  Actual_values\n",
      "0   HKOW_4     475736.555\n",
      "1   HKOW_5     614734.931\n",
      "2   HKOW_6     689746.683\n",
      "3   HKOW_7     604562.798\n",
      "4   HKOW_8     701550.251\n",
      "5   HKOW_9     536874.218\n",
      "6  HKOW_10     335828.010\n",
      "start_time 1578481344.93015\n",
      "ISP\n"
     ]
    },
    {
     "data": {
      "application/vnd.jupyter.widget-view+json": {
       "model_id": "f3c1858d678a43a7936876a865cc86a8",
       "version_major": 2,
       "version_minor": 0
      },
      "text/plain": [
       "HBox(children=(FloatProgress(value=0.0, description='Optimization Progress', style=ProgressStyle(description_w…"
      ]
     },
     "metadata": {},
     "output_type": "display_data"
    },
    {
     "name": "stdout",
     "output_type": "stream",
     "text": [
      "Generation 1 - Current best internal CV score: -516314134.109646\n",
      "Generation 2 - Current best internal CV score: -484477964.1385277\n",
      "Generation 3 - Current best internal CV score: -484477964.1385277\n",
      "Generation 4 - Current best internal CV score: -484477964.1385277\n",
      "Generation 5 - Current best internal CV score: -278568716.087002\n",
      "Generation 6 - Current best internal CV score: -278568716.087002\n",
      "Generation 7 - Current best internal CV score: -278568716.087002\n",
      "Generation 8 - Current best internal CV score: -278568716.087002\n",
      "Generation 9 - Current best internal CV score: -278568716.087002\n",
      "\n",
      "5.09 minutes have elapsed. TPOT will close down.\n",
      "TPOT closed during evaluation in one generation.\n",
      "WARNING: TPOT may not provide a good pipeline if TPOT is stopped/interrupted in a early generation.\n",
      "\n",
      "\n",
      "TPOT closed prematurely. Will use the current best pipeline.\n",
      "\n",
      "Best pipeline: LassoLarsCV(PolynomialFeatures(LassoLarsCV(input_matrix, normalize=False), degree=2, include_bias=False, interaction_only=False), normalize=False)\n",
      "[[7.19638573e+01 6.25175831e+01 3.67452435e+00 1.79596475e+03\n",
      "  3.24765942e+02 1.25465700e+02 3.83340000e+00 9.34174000e+01\n",
      "  1.07754800e+02 9.83467580e+03 0.00000000e+00 0.00000000e+00\n",
      "  0.00000000e+00 0.00000000e+00 0.00000000e+00 0.00000000e+00\n",
      "  0.00000000e+00 0.00000000e+00 1.00000000e+00 0.00000000e+00\n",
      "  0.00000000e+00 0.00000000e+00 0.00000000e+00]]\n",
      "Elasped_time 306.23542761802673\n"
     ]
    },
    {
     "data": {
      "application/vnd.jupyter.widget-view+json": {
       "model_id": "06cc1abb62dc4e9b81a4b0f7ebe96c76",
       "version_major": 2,
       "version_minor": 0
      },
      "text/plain": [
       "HBox(children=(FloatProgress(value=0.0, description='Optimization Progress', style=ProgressStyle(description_w…"
      ]
     },
     "metadata": {},
     "output_type": "display_data"
    },
    {
     "name": "stdout",
     "output_type": "stream",
     "text": [
      "Generation 1 - Current best internal CV score: -548362245.8187201\n",
      "Generation 2 - Current best internal CV score: -548362245.8187201\n",
      "Generation 3 - Current best internal CV score: -504182836.4044771\n",
      "Generation 4 - Current best internal CV score: -477313688.66689223\n",
      "Generation 5 - Current best internal CV score: -436283434.12389183\n",
      "Generation 6 - Current best internal CV score: -417854993.54977256\n",
      "Generation 7 - Current best internal CV score: -417854993.54977256\n",
      "Generation 8 - Current best internal CV score: -377294581.0379792\n",
      "\n",
      "5.05 minutes have elapsed. TPOT will close down.\n",
      "TPOT closed during evaluation in one generation.\n",
      "WARNING: TPOT may not provide a good pipeline if TPOT is stopped/interrupted in a early generation.\n",
      "\n",
      "\n",
      "TPOT closed prematurely. Will use the current best pipeline.\n",
      "\n",
      "Best pipeline: ElasticNetCV(PolynomialFeatures(MinMaxScaler(input_matrix), degree=2, include_bias=False, interaction_only=False), l1_ratio=1.0, tol=0.1)\n",
      "[[7.91658448e+01 6.97021899e+01 4.22271938e+00 1.76248956e+03\n",
      "  2.71900246e+02 1.25561500e+02 3.83340000e+00 9.34174000e+01\n",
      "  1.08116200e+02 9.83467580e+03 0.00000000e+00 0.00000000e+00\n",
      "  1.00000000e+00 0.00000000e+00 0.00000000e+00 0.00000000e+00\n",
      "  0.00000000e+00 0.00000000e+00 0.00000000e+00 0.00000000e+00\n",
      "  0.00000000e+00 0.00000000e+00 0.00000000e+00]]\n",
      "Elasped_time 609.9675495624542\n"
     ]
    },
    {
     "data": {
      "application/vnd.jupyter.widget-view+json": {
       "model_id": "bec8e173457d41a9912d0c420dfbac63",
       "version_major": 2,
       "version_minor": 0
      },
      "text/plain": [
       "HBox(children=(FloatProgress(value=0.0, description='Optimization Progress', style=ProgressStyle(description_w…"
      ]
     },
     "metadata": {},
     "output_type": "display_data"
    },
    {
     "name": "stdout",
     "output_type": "stream",
     "text": [
      "Generation 1 - Current best internal CV score: -626858999.4424639\n",
      "Generation 2 - Current best internal CV score: -503192588.2395447\n",
      "Generation 3 - Current best internal CV score: -503192588.2395447\n",
      "Generation 4 - Current best internal CV score: -503192588.2395447\n",
      "Generation 5 - Current best internal CV score: -503192588.2395447\n",
      "Generation 6 - Current best internal CV score: -503192588.2395447\n",
      "Generation 7 - Current best internal CV score: -457866482.4937088\n",
      "Generation 8 - Current best internal CV score: -457866482.4937088\n",
      "Generation 9 - Current best internal CV score: -442037657.60427874\n",
      "\n",
      "5.01 minutes have elapsed. TPOT will close down.\n",
      "TPOT closed during evaluation in one generation.\n",
      "WARNING: TPOT may not provide a good pipeline if TPOT is stopped/interrupted in a early generation.\n",
      "\n",
      "\n",
      "TPOT closed prematurely. Will use the current best pipeline.\n",
      "\n",
      "Best pipeline: LassoLarsCV(ElasticNetCV(OneHotEncoder(input_matrix, minimum_fraction=0.25, sparse=False, threshold=10), l1_ratio=0.45, tol=0.001), normalize=False)\n",
      "[[8.54816429e+01 7.70712598e+01 6.27293042e+00 1.63042834e+03\n",
      "  2.37301996e+02 1.27126300e+02 3.83340000e+00 9.34174000e+01\n",
      "  1.08352800e+02 9.83467580e+03 0.00000000e+00 1.00000000e+00\n",
      "  0.00000000e+00 0.00000000e+00 0.00000000e+00 0.00000000e+00\n",
      "  0.00000000e+00 0.00000000e+00 0.00000000e+00 0.00000000e+00\n",
      "  0.00000000e+00 1.00000000e+00 1.00000000e+00]]\n",
      "Elasped_time 911.3151276111603\n"
     ]
    },
    {
     "data": {
      "application/vnd.jupyter.widget-view+json": {
       "model_id": "6d7caf3181b54dfbb005be0a918e87e0",
       "version_major": 2,
       "version_minor": 0
      },
      "text/plain": [
       "HBox(children=(FloatProgress(value=0.0, description='Optimization Progress', style=ProgressStyle(description_w…"
      ]
     },
     "metadata": {},
     "output_type": "display_data"
    },
    {
     "name": "stdout",
     "output_type": "stream",
     "text": [
      "Generation 1 - Current best internal CV score: -928726171.2991863\n",
      "Generation 2 - Current best internal CV score: -774955437.0553573\n",
      "Generation 3 - Current best internal CV score: -774955437.0553573\n",
      "Generation 4 - Current best internal CV score: -774955437.0553573\n",
      "Generation 5 - Current best internal CV score: -770812941.0889349\n",
      "Generation 6 - Current best internal CV score: -755646179.8323953\n",
      "Generation 7 - Current best internal CV score: -750595108.2085493\n",
      "\n",
      "5.45 minutes have elapsed. TPOT will close down.\n",
      "TPOT closed during evaluation in one generation.\n",
      "WARNING: TPOT may not provide a good pipeline if TPOT is stopped/interrupted in a early generation.\n",
      "\n",
      "\n",
      "TPOT closed prematurely. Will use the current best pipeline.\n",
      "\n",
      "Best pipeline: AdaBoostRegressor(SelectPercentile(SelectPercentile(LassoLarsCV(input_matrix, normalize=True), percentile=37), percentile=60), learning_rate=0.01, loss=linear, n_estimators=100)\n",
      "[[8.86476329e+01 8.07489126e+01 6.84054153e+00 1.61499746e+03\n",
      "  1.84412277e+02 1.25915700e+02 3.85410000e+00 9.34174000e+01\n",
      "  1.08748500e+02 9.72145100e+03 0.00000000e+00 0.00000000e+00\n",
      "  0.00000000e+00 0.00000000e+00 0.00000000e+00 0.00000000e+00\n",
      "  0.00000000e+00 0.00000000e+00 0.00000000e+00 0.00000000e+00\n",
      "  0.00000000e+00 0.00000000e+00 0.00000000e+00]]\n",
      "Elasped_time 1239.2978467941284\n"
     ]
    },
    {
     "data": {
      "application/vnd.jupyter.widget-view+json": {
       "model_id": "ac4ce56804884c1091ec98cc8fbbc3fe",
       "version_major": 2,
       "version_minor": 0
      },
      "text/plain": [
       "HBox(children=(FloatProgress(value=0.0, description='Optimization Progress', style=ProgressStyle(description_w…"
      ]
     },
     "metadata": {},
     "output_type": "display_data"
    },
    {
     "name": "stdout",
     "output_type": "stream",
     "text": [
      "Generation 1 - Current best internal CV score: -838054080.2653117\n",
      "Generation 2 - Current best internal CV score: -838054080.2653117\n",
      "Generation 3 - Current best internal CV score: -616601644.3464196\n",
      "Generation 4 - Current best internal CV score: -616601644.3464196\n",
      "Generation 5 - Current best internal CV score: -616601644.3464196\n",
      "Generation 6 - Current best internal CV score: -605552385.4906952\n",
      "Generation 7 - Current best internal CV score: -498488182.4852935\n",
      "Generation 8 - Current best internal CV score: -498488182.4852935\n",
      "\n",
      "5.03 minutes have elapsed. TPOT will close down.\n",
      "TPOT closed during evaluation in one generation.\n",
      "WARNING: TPOT may not provide a good pipeline if TPOT is stopped/interrupted in a early generation.\n",
      "\n",
      "\n",
      "TPOT closed prematurely. Will use the current best pipeline.\n",
      "\n",
      "Best pipeline: LassoLarsCV(PCA(OneHotEncoder(MinMaxScaler(input_matrix), minimum_fraction=0.25, sparse=False, threshold=10), iterated_power=7, svd_solver=randomized), normalize=False)\n",
      "[[8.83792027e+01 8.01829538e+01 6.87268937e+00 1.63724049e+03\n",
      "  6.82466201e+01 1.26059300e+02 3.85410000e+00 9.34174000e+01\n",
      "  1.09130800e+02 9.72145100e+03 0.00000000e+00 0.00000000e+00\n",
      "  0.00000000e+00 0.00000000e+00 0.00000000e+00 0.00000000e+00\n",
      "  0.00000000e+00 0.00000000e+00 0.00000000e+00 0.00000000e+00\n",
      "  0.00000000e+00 0.00000000e+00 0.00000000e+00]]\n",
      "Elasped_time 1542.8969295024872\n"
     ]
    },
    {
     "data": {
      "application/vnd.jupyter.widget-view+json": {
       "model_id": "49546c30bb424647b4f499fd578511c3",
       "version_major": 2,
       "version_minor": 0
      },
      "text/plain": [
       "HBox(children=(FloatProgress(value=0.0, description='Optimization Progress', style=ProgressStyle(description_w…"
      ]
     },
     "metadata": {},
     "output_type": "display_data"
    },
    {
     "name": "stdout",
     "output_type": "stream",
     "text": [
      "Generation 1 - Current best internal CV score: -970728792.2516419\n",
      "Generation 2 - Current best internal CV score: -970728792.2516419\n",
      "Generation 3 - Current best internal CV score: -915755378.7536961\n",
      "Generation 4 - Current best internal CV score: -821345597.077482\n",
      "Generation 5 - Current best internal CV score: -783579434.7971386\n",
      "Generation 6 - Current best internal CV score: -783579434.7971386\n",
      "Generation 7 - Current best internal CV score: -783579434.7971386\n",
      "Generation 8 - Current best internal CV score: -783579434.7971386\n",
      "\n",
      "5.01 minutes have elapsed. TPOT will close down.\n",
      "TPOT closed during evaluation in one generation.\n",
      "WARNING: TPOT may not provide a good pipeline if TPOT is stopped/interrupted in a early generation.\n",
      "\n",
      "\n",
      "TPOT closed prematurely. Will use the current best pipeline.\n",
      "\n",
      "Best pipeline: LassoLarsCV(MaxAbsScaler(ZeroCount(PolynomialFeatures(input_matrix, degree=2, include_bias=False, interaction_only=False))), normalize=False)\n",
      "[[8.30310179e+01 7.38202287e+01 3.08047694e+00 1.68713488e+03\n",
      "  2.63159337e+02 1.28066500e+02 3.85410000e+00 9.34174000e+01\n",
      "  1.09550100e+02 9.72145100e+03 0.00000000e+00 0.00000000e+00\n",
      "  0.00000000e+00 1.00000000e+00 0.00000000e+00 0.00000000e+00\n",
      "  0.00000000e+00 0.00000000e+00 0.00000000e+00 0.00000000e+00\n",
      "  0.00000000e+00 1.00000000e+00 0.00000000e+00]]\n",
      "Elasped_time 1843.8956537246704\n"
     ]
    },
    {
     "data": {
      "application/vnd.jupyter.widget-view+json": {
       "model_id": "ee0b5176d7fd477e9d2f3e5616e1f137",
       "version_major": 2,
       "version_minor": 0
      },
      "text/plain": [
       "HBox(children=(FloatProgress(value=0.0, description='Optimization Progress', style=ProgressStyle(description_w…"
      ]
     },
     "metadata": {},
     "output_type": "display_data"
    },
    {
     "name": "stdout",
     "output_type": "stream",
     "text": [
      "Generation 1 - Current best internal CV score: -1110589857.5063815\n",
      "Generation 2 - Current best internal CV score: -927641524.6991388\n",
      "Generation 3 - Current best internal CV score: -849091319.5533059\n",
      "Generation 4 - Current best internal CV score: -849091319.5533059\n",
      "Generation 5 - Current best internal CV score: -572037252.0219932\n",
      "Generation 6 - Current best internal CV score: -572037252.0219932\n",
      "Generation 7 - Current best internal CV score: -572037252.0219932\n",
      "Generation 8 - Current best internal CV score: -572037252.0219932\n",
      "\n",
      "5.08 minutes have elapsed. TPOT will close down.\n",
      "TPOT closed during evaluation in one generation.\n",
      "WARNING: TPOT may not provide a good pipeline if TPOT is stopped/interrupted in a early generation.\n",
      "\n",
      "\n",
      "TPOT closed prematurely. Will use the current best pipeline.\n",
      "\n",
      "Best pipeline: LassoLarsCV(SelectFromModel(RidgeCV(ElasticNetCV(input_matrix, l1_ratio=0.75, tol=0.001)), max_features=0.7000000000000001, n_estimators=100, threshold=0.25), normalize=False)\n",
      "[[7.20591848e+01 6.32762706e+01 2.25821201e+00 1.73580352e+03\n",
      "  2.81103959e+02 1.28880400e+02 3.86450000e+00 9.34174000e+01\n",
      "  1.10626100e+02 9.93793900e+03 0.00000000e+00 0.00000000e+00\n",
      "  0.00000000e+00 0.00000000e+00 1.00000000e+00 0.00000000e+00\n",
      "  0.00000000e+00 0.00000000e+00 0.00000000e+00 0.00000000e+00\n",
      "  0.00000000e+00 0.00000000e+00 0.00000000e+00]]\n",
      "Elasped_time 2149.4928934574127\n",
      "         ISP_4          ISP_5          ISP_6       ISP_7          ISP_8  \\\n",
      "0  174858.4604  199221.556702  234970.641542  252367.075  258903.602843   \n",
      "\n",
      "           ISP_9        ISP_10  \n",
      "0  217783.689063  244683.97511  \n",
      "                    0\n",
      "ISP_4   174858.460400\n",
      "ISP_5   199221.556702\n",
      "ISP_6   234970.641542\n",
      "ISP_7   252367.075000\n",
      "ISP_8   258903.602843\n",
      "ISP_9   217783.689063\n",
      "ISP_10  244683.975110\n",
      "    index              0\n",
      "0   ISP_4  174858.460400\n",
      "1   ISP_5  199221.556702\n",
      "2   ISP_6  234970.641542\n",
      "3   ISP_7  252367.075000\n",
      "4   ISP_8  258903.602843\n",
      "5   ISP_9  217783.689063\n",
      "6  ISP_10  244683.975110\n",
      "    Brand  Forecast_values\n",
      "0   ISP_4    174858.460400\n",
      "1   ISP_5    199221.556702\n",
      "2   ISP_6    234970.641542\n",
      "3   ISP_7    252367.075000\n",
      "4   ISP_8    258903.602843\n",
      "5   ISP_9    217783.689063\n",
      "6  ISP_10    244683.975110\n",
      "    Brand  Actual_values\n",
      "0   ISP_4     180242.103\n",
      "1   ISP_5     252367.075\n",
      "2   ISP_6     313565.737\n",
      "3   ISP_7     238405.536\n",
      "4   ISP_8     247246.095\n",
      "5   ISP_9     200866.341\n",
      "6  ISP_10     180955.113\n",
      "start_time 1578483494.469915\n",
      "OTH\n"
     ]
    },
    {
     "data": {
      "application/vnd.jupyter.widget-view+json": {
       "model_id": "1efb8f47d862456e928ab8e11188be6b",
       "version_major": 2,
       "version_minor": 0
      },
      "text/plain": [
       "HBox(children=(FloatProgress(value=0.0, description='Optimization Progress', style=ProgressStyle(description_w…"
      ]
     },
     "metadata": {},
     "output_type": "display_data"
    },
    {
     "name": "stdout",
     "output_type": "stream",
     "text": [
      "Generation 1 - Current best internal CV score: -9059258523.45016\n",
      "Generation 2 - Current best internal CV score: -9059258523.45016\n",
      "Generation 3 - Current best internal CV score: -9059258523.45016\n",
      "Generation 4 - Current best internal CV score: -9059258523.45016\n",
      "Generation 5 - Current best internal CV score: -9059258523.45016\n",
      "Generation 6 - Current best internal CV score: -9059258523.45016\n",
      "Generation 7 - Current best internal CV score: -9059258523.45016\n",
      "\n",
      "5.03 minutes have elapsed. TPOT will close down.\n",
      "TPOT closed during evaluation in one generation.\n",
      "WARNING: TPOT may not provide a good pipeline if TPOT is stopped/interrupted in a early generation.\n",
      "\n",
      "\n",
      "TPOT closed prematurely. Will use the current best pipeline.\n",
      "\n",
      "Best pipeline: ExtraTreesRegressor(input_matrix, bootstrap=False, max_features=0.8500000000000001, min_samples_leaf=3, min_samples_split=5, n_estimators=100)\n",
      "[[7.19638573e+01 6.25175831e+01 3.67452435e+00 3.33086555e+02\n",
      "  7.61669804e+01 1.25465700e+02 3.83340000e+00 9.34174000e+01\n",
      "  1.07754800e+02 9.83467580e+03 0.00000000e+00 0.00000000e+00\n",
      "  0.00000000e+00 0.00000000e+00 0.00000000e+00 0.00000000e+00\n",
      "  0.00000000e+00 0.00000000e+00 1.00000000e+00 0.00000000e+00\n",
      "  0.00000000e+00 0.00000000e+00 0.00000000e+00]]\n",
      "Elasped_time 302.41577529907227\n"
     ]
    },
    {
     "data": {
      "application/vnd.jupyter.widget-view+json": {
       "model_id": "2bc0216a78974aeaaebd1608f2f7233a",
       "version_major": 2,
       "version_minor": 0
      },
      "text/plain": [
       "HBox(children=(FloatProgress(value=0.0, description='Optimization Progress', style=ProgressStyle(description_w…"
      ]
     },
     "metadata": {},
     "output_type": "display_data"
    },
    {
     "name": "stdout",
     "output_type": "stream",
     "text": [
      "Generation 1 - Current best internal CV score: -11741040835.17645\n",
      "Generation 2 - Current best internal CV score: -11269286536.145403\n",
      "Generation 3 - Current best internal CV score: -9761693173.395416\n",
      "Generation 4 - Current best internal CV score: -9761693173.395416\n",
      "Generation 5 - Current best internal CV score: -8919187432.890106\n",
      "Generation 6 - Current best internal CV score: -8919187432.890106\n",
      "\n",
      "5.25 minutes have elapsed. TPOT will close down.\n",
      "TPOT closed during evaluation in one generation.\n",
      "WARNING: TPOT may not provide a good pipeline if TPOT is stopped/interrupted in a early generation.\n",
      "\n",
      "\n",
      "TPOT closed prematurely. Will use the current best pipeline.\n",
      "\n",
      "Best pipeline: LassoLarsCV(ExtraTreesRegressor(input_matrix, bootstrap=False, max_features=0.8500000000000001, min_samples_leaf=1, min_samples_split=7, n_estimators=100), normalize=False)\n",
      "[[7.91658448e+01 6.97021899e+01 4.22271938e+00 3.30582115e+02\n",
      "  7.53462585e+01 1.25561500e+02 3.83340000e+00 9.34174000e+01\n",
      "  1.08116200e+02 9.83467580e+03 0.00000000e+00 0.00000000e+00\n",
      "  1.00000000e+00 0.00000000e+00 0.00000000e+00 0.00000000e+00\n",
      "  0.00000000e+00 0.00000000e+00 0.00000000e+00 0.00000000e+00\n",
      "  0.00000000e+00 0.00000000e+00 0.00000000e+00]]\n",
      "Elasped_time 618.0022668838501\n"
     ]
    },
    {
     "data": {
      "application/vnd.jupyter.widget-view+json": {
       "model_id": "16ee12a9feba453aa9516af76d41278f",
       "version_major": 2,
       "version_minor": 0
      },
      "text/plain": [
       "HBox(children=(FloatProgress(value=0.0, description='Optimization Progress', style=ProgressStyle(description_w…"
      ]
     },
     "metadata": {},
     "output_type": "display_data"
    },
    {
     "name": "stdout",
     "output_type": "stream",
     "text": [
      "Generation 1 - Current best internal CV score: -12019819076.271048\n",
      "Generation 2 - Current best internal CV score: -12019819076.271048\n",
      "Generation 3 - Current best internal CV score: -11514731760.874695\n",
      "Generation 4 - Current best internal CV score: -9606396436.210262\n",
      "Generation 5 - Current best internal CV score: -9606396436.210262\n",
      "Generation 6 - Current best internal CV score: -9606396436.210262\n",
      "\n",
      "5.05 minutes have elapsed. TPOT will close down.\n",
      "TPOT closed during evaluation in one generation.\n",
      "WARNING: TPOT may not provide a good pipeline if TPOT is stopped/interrupted in a early generation.\n",
      "\n",
      "\n",
      "TPOT closed prematurely. Will use the current best pipeline.\n",
      "\n",
      "Best pipeline: AdaBoostRegressor(ExtraTreesRegressor(input_matrix, bootstrap=False, max_features=0.8500000000000001, min_samples_leaf=2, min_samples_split=5, n_estimators=100), learning_rate=0.5, loss=linear, n_estimators=100)\n",
      "[[8.54816429e+01 7.70712598e+01 6.27293042e+00 3.15656183e+02\n",
      "  6.03994337e+01 1.27126300e+02 3.83340000e+00 9.34174000e+01\n",
      "  1.08352800e+02 9.83467580e+03 0.00000000e+00 1.00000000e+00\n",
      "  0.00000000e+00 0.00000000e+00 0.00000000e+00 0.00000000e+00\n",
      "  0.00000000e+00 0.00000000e+00 0.00000000e+00 0.00000000e+00\n",
      "  0.00000000e+00 1.00000000e+00 1.00000000e+00]]\n",
      "Elasped_time 921.843070268631\n"
     ]
    },
    {
     "data": {
      "application/vnd.jupyter.widget-view+json": {
       "model_id": "c091bcbc84354ecf93244f02b2302b50",
       "version_major": 2,
       "version_minor": 0
      },
      "text/plain": [
       "HBox(children=(FloatProgress(value=0.0, description='Optimization Progress', style=ProgressStyle(description_w…"
      ]
     },
     "metadata": {},
     "output_type": "display_data"
    },
    {
     "name": "stdout",
     "output_type": "stream",
     "text": [
      "Generation 1 - Current best internal CV score: -10722676908.614082\n",
      "Generation 2 - Current best internal CV score: -10722676908.614082\n",
      "Generation 3 - Current best internal CV score: -10722676908.614082\n",
      "Generation 4 - Current best internal CV score: -10722676908.614082\n",
      "Generation 5 - Current best internal CV score: -9763587441.69705\n",
      "Generation 6 - Current best internal CV score: -9763587441.69705\n",
      "\n",
      "5.12 minutes have elapsed. TPOT will close down.\n",
      "TPOT closed during evaluation in one generation.\n",
      "WARNING: TPOT may not provide a good pipeline if TPOT is stopped/interrupted in a early generation.\n",
      "\n",
      "\n",
      "TPOT closed prematurely. Will use the current best pipeline.\n",
      "\n",
      "Best pipeline: ExtraTreesRegressor(MinMaxScaler(input_matrix), bootstrap=False, max_features=1.0, min_samples_leaf=2, min_samples_split=8, n_estimators=100)\n",
      "[[8.86476329e+01 8.07489126e+01 6.84054153e+00 3.09314368e+02\n",
      "  5.62353989e+01 1.25915700e+02 3.85410000e+00 9.34174000e+01\n",
      "  1.08748500e+02 9.72145100e+03 0.00000000e+00 0.00000000e+00\n",
      "  0.00000000e+00 0.00000000e+00 0.00000000e+00 0.00000000e+00\n",
      "  0.00000000e+00 0.00000000e+00 0.00000000e+00 0.00000000e+00\n",
      "  0.00000000e+00 0.00000000e+00 0.00000000e+00]]\n",
      "Elasped_time 1229.9027500152588\n"
     ]
    },
    {
     "data": {
      "application/vnd.jupyter.widget-view+json": {
       "model_id": "19c5d70a289c49c98f437ca21304ac89",
       "version_major": 2,
       "version_minor": 0
      },
      "text/plain": [
       "HBox(children=(FloatProgress(value=0.0, description='Optimization Progress', style=ProgressStyle(description_w…"
      ]
     },
     "metadata": {},
     "output_type": "display_data"
    },
    {
     "name": "stdout",
     "output_type": "stream",
     "text": [
      "Generation 1 - Current best internal CV score: -9989653716.547567\n",
      "Generation 2 - Current best internal CV score: -9989653716.547567\n",
      "Generation 3 - Current best internal CV score: -9311732227.79524\n",
      "Generation 4 - Current best internal CV score: -9311732227.79524\n",
      "\n",
      "5.07 minutes have elapsed. TPOT will close down.\n",
      "TPOT closed during evaluation in one generation.\n",
      "WARNING: TPOT may not provide a good pipeline if TPOT is stopped/interrupted in a early generation.\n",
      "\n",
      "\n",
      "TPOT closed prematurely. Will use the current best pipeline.\n",
      "\n",
      "Best pipeline: ExtraTreesRegressor(input_matrix, bootstrap=False, max_features=0.6000000000000001, min_samples_leaf=1, min_samples_split=2, n_estimators=100)\n",
      "[[8.83792027e+01 8.01829538e+01 6.87268937e+00 3.17938837e+02\n",
      "  4.92955721e+01 1.26059300e+02 3.85410000e+00 9.34174000e+01\n",
      "  1.09130800e+02 9.72145100e+03 0.00000000e+00 0.00000000e+00\n",
      "  0.00000000e+00 0.00000000e+00 0.00000000e+00 0.00000000e+00\n",
      "  0.00000000e+00 0.00000000e+00 0.00000000e+00 0.00000000e+00\n",
      "  0.00000000e+00 0.00000000e+00 0.00000000e+00]]\n",
      "Elasped_time 1534.3907961845398\n"
     ]
    },
    {
     "data": {
      "application/vnd.jupyter.widget-view+json": {
       "model_id": "35262e4e148c4b2f8b34d704b1055305",
       "version_major": 2,
       "version_minor": 0
      },
      "text/plain": [
       "HBox(children=(FloatProgress(value=0.0, description='Optimization Progress', style=ProgressStyle(description_w…"
      ]
     },
     "metadata": {},
     "output_type": "display_data"
    },
    {
     "name": "stdout",
     "output_type": "stream",
     "text": [
      "Generation 1 - Current best internal CV score: -10046296814.067358\n",
      "Generation 2 - Current best internal CV score: -10046296814.067358\n",
      "Generation 3 - Current best internal CV score: -10046296814.067358\n",
      "\n",
      "5.07 minutes have elapsed. TPOT will close down.\n",
      "TPOT closed during evaluation in one generation.\n",
      "WARNING: TPOT may not provide a good pipeline if TPOT is stopped/interrupted in a early generation.\n",
      "\n",
      "\n",
      "TPOT closed prematurely. Will use the current best pipeline.\n",
      "\n",
      "Best pipeline: ExtraTreesRegressor(input_matrix, bootstrap=False, max_features=0.9000000000000001, min_samples_leaf=3, min_samples_split=3, n_estimators=100)\n",
      "[[8.30310179e+01 7.38202287e+01 3.08047694e+00 3.49653511e+02\n",
      "  5.99146058e+01 1.28066500e+02 3.85410000e+00 9.34174000e+01\n",
      "  1.09550100e+02 9.72145100e+03 0.00000000e+00 0.00000000e+00\n",
      "  0.00000000e+00 1.00000000e+00 0.00000000e+00 0.00000000e+00\n",
      "  0.00000000e+00 0.00000000e+00 0.00000000e+00 0.00000000e+00\n",
      "  0.00000000e+00 1.00000000e+00 0.00000000e+00]]\n",
      "Elasped_time 1839.4881200790405\n"
     ]
    },
    {
     "data": {
      "application/vnd.jupyter.widget-view+json": {
       "model_id": "b6289be557ee41a78c9016c42bb9171a",
       "version_major": 2,
       "version_minor": 0
      },
      "text/plain": [
       "HBox(children=(FloatProgress(value=0.0, description='Optimization Progress', style=ProgressStyle(description_w…"
      ]
     },
     "metadata": {},
     "output_type": "display_data"
    },
    {
     "name": "stdout",
     "output_type": "stream",
     "text": [
      "Generation 1 - Current best internal CV score: -12770794128.707876\n",
      "Generation 2 - Current best internal CV score: -12770794128.707876\n",
      "Generation 3 - Current best internal CV score: -12770794128.707876\n",
      "Generation 4 - Current best internal CV score: -12770794128.707876\n",
      "\n",
      "5.10 minutes have elapsed. TPOT will close down.\n",
      "TPOT closed during evaluation in one generation.\n",
      "WARNING: TPOT may not provide a good pipeline if TPOT is stopped/interrupted in a early generation.\n",
      "\n",
      "\n",
      "TPOT closed prematurely. Will use the current best pipeline.\n",
      "\n",
      "Best pipeline: RidgeCV(MinMaxScaler(input_matrix))\n",
      "[[7.20591848e+01 6.32762706e+01 2.25821201e+00 3.98400726e+02\n",
      "  7.36108194e+01 1.28880400e+02 3.86450000e+00 9.34174000e+01\n",
      "  1.10626100e+02 9.93793900e+03 0.00000000e+00 0.00000000e+00\n",
      "  0.00000000e+00 0.00000000e+00 1.00000000e+00 0.00000000e+00\n",
      "  0.00000000e+00 0.00000000e+00 0.00000000e+00 0.00000000e+00\n",
      "  0.00000000e+00 0.00000000e+00 0.00000000e+00]]\n",
      "Elasped_time 2145.7711024284363\n",
      "           OTH_4         OTH_5         OTH_6         OTH_7         OTH_8  \\\n",
      "0  921774.604453  1.162714e+06  1.511290e+06  1.608563e+06  1.386222e+06   \n",
      "\n",
      "          OTH_9         OTH_10  \n",
      "0  1.138046e+06  615523.506558  \n",
      "                   0\n",
      "OTH_4   9.217746e+05\n",
      "OTH_5   1.162714e+06\n",
      "OTH_6   1.511290e+06\n",
      "OTH_7   1.608563e+06\n",
      "OTH_8   1.386222e+06\n",
      "OTH_9   1.138046e+06\n",
      "OTH_10  6.155235e+05\n",
      "    index             0\n",
      "0   OTH_4  9.217746e+05\n",
      "1   OTH_5  1.162714e+06\n",
      "2   OTH_6  1.511290e+06\n",
      "3   OTH_7  1.608563e+06\n",
      "4   OTH_8  1.386222e+06\n",
      "5   OTH_9  1.138046e+06\n",
      "6  OTH_10  6.155235e+05\n",
      "    Brand  Forecast_values\n",
      "0   OTH_4     9.217746e+05\n",
      "1   OTH_5     1.162714e+06\n",
      "2   OTH_6     1.511290e+06\n",
      "3   OTH_7     1.608563e+06\n",
      "4   OTH_8     1.386222e+06\n",
      "5   OTH_9     1.138046e+06\n",
      "6  OTH_10     6.155235e+05\n",
      "    Brand  Actual_values\n",
      "0   OTH_4   9.623091e+05\n",
      "1   OTH_5   1.253126e+06\n",
      "2   OTH_6   1.407938e+06\n",
      "3   OTH_7   1.389678e+06\n",
      "4   OTH_8   1.557552e+06\n",
      "5   OTH_9   1.067790e+06\n",
      "6  OTH_10   6.478156e+05\n",
      "start_time 1578485640.2786705\n",
      "SED\n"
     ]
    },
    {
     "data": {
      "application/vnd.jupyter.widget-view+json": {
       "model_id": "4181fd43cd9a428ba3a1b6a2cfd5e9c3",
       "version_major": 2,
       "version_minor": 0
      },
      "text/plain": [
       "HBox(children=(FloatProgress(value=0.0, description='Optimization Progress', style=ProgressStyle(description_w…"
      ]
     },
     "metadata": {},
     "output_type": "display_data"
    },
    {
     "name": "stdout",
     "output_type": "stream",
     "text": [
      "Generation 1 - Current best internal CV score: -10978193375.10526\n",
      "Generation 2 - Current best internal CV score: -10695219108.96389\n",
      "Generation 3 - Current best internal CV score: -10695219108.96389\n",
      "Generation 4 - Current best internal CV score: -10616860089.72662\n",
      "\n",
      "5.03 minutes have elapsed. TPOT will close down.\n",
      "TPOT closed during evaluation in one generation.\n",
      "WARNING: TPOT may not provide a good pipeline if TPOT is stopped/interrupted in a early generation.\n",
      "\n",
      "\n",
      "TPOT closed prematurely. Will use the current best pipeline.\n",
      "\n",
      "Best pipeline: RandomForestRegressor(ExtraTreesRegressor(input_matrix, bootstrap=True, max_features=1.0, min_samples_leaf=1, min_samples_split=4, n_estimators=100), bootstrap=False, max_features=0.55, min_samples_leaf=3, min_samples_split=10, n_estimators=100)\n",
      "[[7.19638573e+01 6.25175831e+01 3.67452435e+00 2.69590748e+02\n",
      "  4.14559585e+01 1.25465700e+02 3.83340000e+00 9.34174000e+01\n",
      "  1.07754800e+02 9.83467580e+03 0.00000000e+00 0.00000000e+00\n",
      "  0.00000000e+00 0.00000000e+00 0.00000000e+00 0.00000000e+00\n",
      "  0.00000000e+00 0.00000000e+00 1.00000000e+00 0.00000000e+00\n",
      "  0.00000000e+00 0.00000000e+00 0.00000000e+00]]\n",
      "Elasped_time 303.3016963005066\n"
     ]
    },
    {
     "data": {
      "application/vnd.jupyter.widget-view+json": {
       "model_id": "47f50f5f2aee451f8e3f10d4e0868593",
       "version_major": 2,
       "version_minor": 0
      },
      "text/plain": [
       "HBox(children=(FloatProgress(value=0.0, description='Optimization Progress', style=ProgressStyle(description_w…"
      ]
     },
     "metadata": {},
     "output_type": "display_data"
    },
    {
     "name": "stdout",
     "output_type": "stream",
     "text": [
      "Generation 1 - Current best internal CV score: -11598450132.721275\n",
      "Generation 2 - Current best internal CV score: -11598450132.721275\n",
      "Generation 3 - Current best internal CV score: -11598450132.721275\n",
      "Generation 4 - Current best internal CV score: -10917933197.47717\n",
      "\n",
      "5.07 minutes have elapsed. TPOT will close down.\n",
      "TPOT closed during evaluation in one generation.\n",
      "WARNING: TPOT may not provide a good pipeline if TPOT is stopped/interrupted in a early generation.\n",
      "\n",
      "\n",
      "TPOT closed prematurely. Will use the current best pipeline.\n",
      "\n",
      "Best pipeline: LassoLarsCV(ZeroCount(input_matrix), normalize=True)\n",
      "[[7.91658448e+01 6.97021899e+01 4.22271938e+00 2.50257484e+02\n",
      "  3.62325900e+01 1.25561500e+02 3.83340000e+00 9.34174000e+01\n",
      "  1.08116200e+02 9.83467580e+03 0.00000000e+00 0.00000000e+00\n",
      "  1.00000000e+00 0.00000000e+00 0.00000000e+00 0.00000000e+00\n",
      "  0.00000000e+00 0.00000000e+00 0.00000000e+00 0.00000000e+00\n",
      "  0.00000000e+00 0.00000000e+00 0.00000000e+00]]\n",
      "Elasped_time 607.8240189552307\n"
     ]
    },
    {
     "data": {
      "application/vnd.jupyter.widget-view+json": {
       "model_id": "aa501bd7cc6c486783654b44fb6c5d5e",
       "version_major": 2,
       "version_minor": 0
      },
      "text/plain": [
       "HBox(children=(FloatProgress(value=0.0, description='Optimization Progress', style=ProgressStyle(description_w…"
      ]
     },
     "metadata": {},
     "output_type": "display_data"
    },
    {
     "name": "stdout",
     "output_type": "stream",
     "text": [
      "Generation 1 - Current best internal CV score: -6075686052.338111\n",
      "Generation 2 - Current best internal CV score: -6075686052.338111\n",
      "Generation 3 - Current best internal CV score: -5836026998.364262\n",
      "Generation 4 - Current best internal CV score: -5836026998.364262\n",
      "\n",
      "5.02 minutes have elapsed. TPOT will close down.\n",
      "TPOT closed during evaluation in one generation.\n",
      "WARNING: TPOT may not provide a good pipeline if TPOT is stopped/interrupted in a early generation.\n",
      "\n",
      "\n",
      "TPOT closed prematurely. Will use the current best pipeline.\n",
      "\n",
      "Best pipeline: ExtraTreesRegressor(input_matrix, bootstrap=False, max_features=1.0, min_samples_leaf=1, min_samples_split=2, n_estimators=100)\n",
      "[[8.54816429e+01 7.70712598e+01 6.27293042e+00 2.11124776e+02\n",
      "  1.16794811e+01 1.27126300e+02 3.83340000e+00 9.34174000e+01\n",
      "  1.08352800e+02 9.83467580e+03 0.00000000e+00 1.00000000e+00\n",
      "  0.00000000e+00 0.00000000e+00 0.00000000e+00 0.00000000e+00\n",
      "  0.00000000e+00 0.00000000e+00 0.00000000e+00 0.00000000e+00\n",
      "  0.00000000e+00 1.00000000e+00 1.00000000e+00]]\n",
      "Elasped_time 911.0916457176208\n"
     ]
    },
    {
     "data": {
      "application/vnd.jupyter.widget-view+json": {
       "model_id": "08558efba02a43bc8df5c487143e1930",
       "version_major": 2,
       "version_minor": 0
      },
      "text/plain": [
       "HBox(children=(FloatProgress(value=0.0, description='Optimization Progress', style=ProgressStyle(description_w…"
      ]
     },
     "metadata": {},
     "output_type": "display_data"
    },
    {
     "name": "stdout",
     "output_type": "stream",
     "text": [
      "Generation 1 - Current best internal CV score: -10399719992.695246\n",
      "Generation 2 - Current best internal CV score: -8101147897.320246\n",
      "Generation 3 - Current best internal CV score: -8101147897.320246\n",
      "Generation 4 - Current best internal CV score: -8101147897.320246\n",
      "\n",
      "5.08 minutes have elapsed. TPOT will close down.\n",
      "TPOT closed during evaluation in one generation.\n",
      "WARNING: TPOT may not provide a good pipeline if TPOT is stopped/interrupted in a early generation.\n",
      "\n",
      "\n",
      "TPOT closed prematurely. Will use the current best pipeline.\n",
      "\n",
      "Best pipeline: ExtraTreesRegressor(input_matrix, bootstrap=False, max_features=0.7000000000000001, min_samples_leaf=1, min_samples_split=9, n_estimators=100)\n",
      "[[8.86476329e+01 8.07489126e+01 6.84054153e+00 2.08440971e+02\n",
      "  3.10336461e+01 1.25915700e+02 3.85410000e+00 9.34174000e+01\n",
      "  1.08748500e+02 9.72145100e+03 0.00000000e+00 0.00000000e+00\n",
      "  0.00000000e+00 0.00000000e+00 0.00000000e+00 0.00000000e+00\n",
      "  0.00000000e+00 0.00000000e+00 0.00000000e+00 0.00000000e+00\n",
      "  0.00000000e+00 0.00000000e+00 0.00000000e+00]]\n",
      "Elasped_time 1216.3996760845184\n"
     ]
    },
    {
     "data": {
      "application/vnd.jupyter.widget-view+json": {
       "model_id": "6f8b7cfeda4840b486625e0b72d45770",
       "version_major": 2,
       "version_minor": 0
      },
      "text/plain": [
       "HBox(children=(FloatProgress(value=0.0, description='Optimization Progress', style=ProgressStyle(description_w…"
      ]
     },
     "metadata": {},
     "output_type": "display_data"
    },
    {
     "name": "stdout",
     "output_type": "stream",
     "text": [
      "Generation 1 - Current best internal CV score: -8716355101.485687\n",
      "Generation 2 - Current best internal CV score: -8716355101.485687\n",
      "Generation 3 - Current best internal CV score: -8716355101.485687\n",
      "Generation 4 - Current best internal CV score: -8716355101.485687\n",
      "\n",
      "5.50 minutes have elapsed. TPOT will close down.\n",
      "TPOT closed during evaluation in one generation.\n",
      "WARNING: TPOT may not provide a good pipeline if TPOT is stopped/interrupted in a early generation.\n",
      "\n",
      "\n",
      "TPOT closed prematurely. Will use the current best pipeline.\n",
      "\n",
      "Best pipeline: LinearSVR(MinMaxScaler(input_matrix), C=5.0, dual=False, epsilon=0.0001, loss=squared_epsilon_insensitive, tol=0.01)\n",
      "[[ 8.83792027e+01  8.01829538e+01  6.87268937e+00  2.00761078e+02\n",
      "  -1.36617506e+01  1.26059300e+02  3.85410000e+00  9.34174000e+01\n",
      "   1.09130800e+02  9.72145100e+03  0.00000000e+00  0.00000000e+00\n",
      "   0.00000000e+00  0.00000000e+00  0.00000000e+00  0.00000000e+00\n",
      "   0.00000000e+00  0.00000000e+00  0.00000000e+00  0.00000000e+00\n",
      "   0.00000000e+00  0.00000000e+00  0.00000000e+00]]\n",
      "Elasped_time 1546.6318426132202\n"
     ]
    },
    {
     "data": {
      "application/vnd.jupyter.widget-view+json": {
       "model_id": "e7d88c9d48b54b94a0c9285c513be6b1",
       "version_major": 2,
       "version_minor": 0
      },
      "text/plain": [
       "HBox(children=(FloatProgress(value=0.0, description='Optimization Progress', style=ProgressStyle(description_w…"
      ]
     },
     "metadata": {},
     "output_type": "display_data"
    },
    {
     "name": "stdout",
     "output_type": "stream",
     "text": [
      "Generation 1 - Current best internal CV score: -10569025502.991385\n",
      "Generation 2 - Current best internal CV score: -10569025502.991385\n",
      "Generation 3 - Current best internal CV score: -9926823344.212055\n",
      "Generation 4 - Current best internal CV score: -9881820971.46872\n",
      "\n",
      "5.21 minutes have elapsed. TPOT will close down.\n",
      "TPOT closed during evaluation in one generation.\n",
      "WARNING: TPOT may not provide a good pipeline if TPOT is stopped/interrupted in a early generation.\n",
      "\n",
      "\n",
      "TPOT closed prematurely. Will use the current best pipeline.\n",
      "\n",
      "Best pipeline: LassoLarsCV(SelectPercentile(input_matrix, percentile=95), normalize=False)\n",
      "[[ 8.30310179e+01  7.38202287e+01  3.08047694e+00  2.14730563e+02\n",
      "  -3.36415650e+01  1.28066500e+02  3.85410000e+00  9.34174000e+01\n",
      "   1.09550100e+02  9.72145100e+03  0.00000000e+00  0.00000000e+00\n",
      "   0.00000000e+00  1.00000000e+00  0.00000000e+00  0.00000000e+00\n",
      "   0.00000000e+00  0.00000000e+00  0.00000000e+00  0.00000000e+00\n",
      "   0.00000000e+00  1.00000000e+00  0.00000000e+00]]\n",
      "Elasped_time 1859.3556578159332\n"
     ]
    },
    {
     "data": {
      "application/vnd.jupyter.widget-view+json": {
       "model_id": "2d465bd18b934861b4a827f6c2bbf6c4",
       "version_major": 2,
       "version_minor": 0
      },
      "text/plain": [
       "HBox(children=(FloatProgress(value=0.0, description='Optimization Progress', style=ProgressStyle(description_w…"
      ]
     },
     "metadata": {},
     "output_type": "display_data"
    },
    {
     "name": "stdout",
     "output_type": "stream",
     "text": [
      "Generation 1 - Current best internal CV score: -9358526539.4597\n",
      "Generation 2 - Current best internal CV score: -9358526539.4597\n",
      "Generation 3 - Current best internal CV score: -9076087289.692503\n",
      "Generation 4 - Current best internal CV score: -9076087289.692503\n",
      "\n",
      "5.00 minutes have elapsed. TPOT will close down.\n",
      "TPOT closed during evaluation in one generation.\n",
      "WARNING: TPOT may not provide a good pipeline if TPOT is stopped/interrupted in a early generation.\n",
      "\n",
      "\n",
      "TPOT closed prematurely. Will use the current best pipeline.\n",
      "\n",
      "Best pipeline: AdaBoostRegressor(RidgeCV(MaxAbsScaler(input_matrix)), learning_rate=0.5, loss=square, n_estimators=100)\n",
      "[[ 7.20591848e+01  6.32762706e+01  2.25821201e+00  2.37789423e+02\n",
      "  -1.39947838e+01  1.28880400e+02  3.86450000e+00  9.34174000e+01\n",
      "   1.10626100e+02  9.93793900e+03  0.00000000e+00  0.00000000e+00\n",
      "   0.00000000e+00  0.00000000e+00  1.00000000e+00  0.00000000e+00\n",
      "   0.00000000e+00  0.00000000e+00  0.00000000e+00  0.00000000e+00\n",
      "   0.00000000e+00  0.00000000e+00  0.00000000e+00]]\n",
      "Elasped_time 2160.943405151367\n",
      "           SED_4          SED_5         SED_6         SED_7         SED_8  \\\n",
      "0  538964.169205  779093.554922  1.057933e+06  1.143181e+06  1.091140e+06   \n",
      "\n",
      "           SED_9         SED_10  \n",
      "0  716876.397933  574810.844909  \n",
      "                   0\n",
      "SED_4   5.389642e+05\n",
      "SED_5   7.790936e+05\n",
      "SED_6   1.057933e+06\n",
      "SED_7   1.143181e+06\n",
      "SED_8   1.091140e+06\n",
      "SED_9   7.168764e+05\n",
      "SED_10  5.748108e+05\n",
      "    index             0\n",
      "0   SED_4  5.389642e+05\n",
      "1   SED_5  7.790936e+05\n",
      "2   SED_6  1.057933e+06\n",
      "3   SED_7  1.143181e+06\n",
      "4   SED_8  1.091140e+06\n",
      "5   SED_9  7.168764e+05\n",
      "6  SED_10  5.748108e+05\n",
      "    Brand  Forecast_values\n",
      "0   SED_4     5.389642e+05\n",
      "1   SED_5     7.790936e+05\n",
      "2   SED_6     1.057933e+06\n",
      "3   SED_7     1.143181e+06\n",
      "4   SED_8     1.091140e+06\n",
      "5   SED_9     7.168764e+05\n",
      "6  SED_10     5.748108e+05\n",
      "    Brand  Actual_values\n",
      "0   SED_4     638785.762\n",
      "1   SED_5     890365.162\n",
      "2   SED_6    1017321.008\n",
      "3   SED_7    1041501.477\n",
      "4   SED_8    1140412.751\n",
      "5   SED_9     676586.313\n",
      "6  SED_10     478536.406\n"
     ]
    }
   ],
   "source": [
    "final = pd.DataFrame()\n",
    "for brand_name in Brand_list:\n",
    "    start_time = time.time()\n",
    "    print(\"start_time\",time.time())\n",
    "    print(brand_name)\n",
    "    brand_df = X.loc[X.Key == brand_name]\n",
    "    brand_df.set_index('Date',inplace=True)\n",
    "    tmp = []\n",
    "    forecast = pd.DataFrame()\n",
    "    Actuals = pd.DataFrame()\n",
    "    for i in range(7,0,-1):\n",
    "        train_date = brand_df.index.max() - relativedelta.relativedelta(months=i)\n",
    "        test_date = train_date + relativedelta.relativedelta(months=1)\n",
    "\n",
    "        x = brand_df.drop(columns=['Volume','Key'])\n",
    "        y = brand_df[['Volume']]\n",
    "        train_x = x[:train_date]\n",
    "        train_y = y[:train_date][['Volume']]\n",
    "        test_x = x[test_date:]\n",
    "        test_y = y[test_date:][['Volume']]\n",
    "        \n",
    "        model = TPOTRegressor(n_jobs=-1,verbosity=2,max_time_mins=5)\n",
    "        model.fit(np.array(train_x),np.array(train_y))\n",
    "#         #forecast for next month....\n",
    "        forecast[str(brand_name)+str('_')+str(test_date.month)] = model.predict(np.array(test_x[test_date:test_date])).reshape(1,)\n",
    "        Actuals[str(brand_name)+str('_')+str(test_date.month)] = test_y[test_date:test_date].values[0]\n",
    "        print(\"Elasped_time\",time.time() - start_time)\n",
    "        \n",
    "    if (len(forecast)>0 & len(Actuals>0)):\n",
    "        forecast=forecast.T.reset_index()\n",
    "        forecast.columns=[\"Brand\",\"Forecast_values\"]\n",
    "        Actuals=Actuals.T.reset_index()\n",
    "        Actuals.columns=[\"Brand\",\"Actual_values\"]\n",
    "        brand_wise_merge = forecast.merge(Actuals,on=\"Brand\",how=\"left\")\n",
    "        final = final.append(brand_wise_merge,ignore_index=True)\n",
    "    else:\n",
    "        print(\"doesn't match with TPOT\")"
   ]
  },
  {
   "cell_type": "code",
   "execution_count": 8,
   "metadata": {},
   "outputs": [
    {
     "data": {
      "text/html": [
       "<div>\n",
       "<style scoped>\n",
       "    .dataframe tbody tr th:only-of-type {\n",
       "        vertical-align: middle;\n",
       "    }\n",
       "\n",
       "    .dataframe tbody tr th {\n",
       "        vertical-align: top;\n",
       "    }\n",
       "\n",
       "    .dataframe thead th {\n",
       "        text-align: right;\n",
       "    }\n",
       "</style>\n",
       "<table border=\"1\" class=\"dataframe\">\n",
       "  <thead>\n",
       "    <tr style=\"text-align: right;\">\n",
       "      <th></th>\n",
       "      <th>Brand</th>\n",
       "      <th>Forecast_values</th>\n",
       "      <th>Actual_values</th>\n",
       "      <th>Error</th>\n",
       "      <th>Brandname</th>\n",
       "      <th>leMonth</th>\n",
       "    </tr>\n",
       "  </thead>\n",
       "  <tbody>\n",
       "    <tr>\n",
       "      <th>0</th>\n",
       "      <td>BUD_4</td>\n",
       "      <td>1.570485e+06</td>\n",
       "      <td>1526338.829</td>\n",
       "      <td>44146.395158</td>\n",
       "      <td>BUD</td>\n",
       "      <td>4</td>\n",
       "    </tr>\n",
       "    <tr>\n",
       "      <th>1</th>\n",
       "      <td>BUD_5</td>\n",
       "      <td>1.831176e+06</td>\n",
       "      <td>2070232.414</td>\n",
       "      <td>239056.613000</td>\n",
       "      <td>BUD</td>\n",
       "      <td>5</td>\n",
       "    </tr>\n",
       "    <tr>\n",
       "      <th>2</th>\n",
       "      <td>BUD_6</td>\n",
       "      <td>2.103516e+06</td>\n",
       "      <td>2367853.079</td>\n",
       "      <td>264337.166887</td>\n",
       "      <td>BUD</td>\n",
       "      <td>6</td>\n",
       "    </tr>\n",
       "    <tr>\n",
       "      <th>3</th>\n",
       "      <td>BUD_7</td>\n",
       "      <td>2.063421e+06</td>\n",
       "      <td>1748440.507</td>\n",
       "      <td>314980.376784</td>\n",
       "      <td>BUD</td>\n",
       "      <td>7</td>\n",
       "    </tr>\n",
       "    <tr>\n",
       "      <th>4</th>\n",
       "      <td>BUD_8</td>\n",
       "      <td>1.981049e+06</td>\n",
       "      <td>1965172.455</td>\n",
       "      <td>15876.706821</td>\n",
       "      <td>BUD</td>\n",
       "      <td>8</td>\n",
       "    </tr>\n",
       "    <tr>\n",
       "      <th>...</th>\n",
       "      <td>...</td>\n",
       "      <td>...</td>\n",
       "      <td>...</td>\n",
       "      <td>...</td>\n",
       "      <td>...</td>\n",
       "      <td>...</td>\n",
       "    </tr>\n",
       "    <tr>\n",
       "      <th>65</th>\n",
       "      <td>SED_6</td>\n",
       "      <td>1.057933e+06</td>\n",
       "      <td>1017321.008</td>\n",
       "      <td>40612.167160</td>\n",
       "      <td>SED</td>\n",
       "      <td>6</td>\n",
       "    </tr>\n",
       "    <tr>\n",
       "      <th>66</th>\n",
       "      <td>SED_7</td>\n",
       "      <td>1.143181e+06</td>\n",
       "      <td>1041501.477</td>\n",
       "      <td>101679.539907</td>\n",
       "      <td>SED</td>\n",
       "      <td>7</td>\n",
       "    </tr>\n",
       "    <tr>\n",
       "      <th>67</th>\n",
       "      <td>SED_8</td>\n",
       "      <td>1.091140e+06</td>\n",
       "      <td>1140412.751</td>\n",
       "      <td>49272.663408</td>\n",
       "      <td>SED</td>\n",
       "      <td>8</td>\n",
       "    </tr>\n",
       "    <tr>\n",
       "      <th>68</th>\n",
       "      <td>SED_9</td>\n",
       "      <td>7.168764e+05</td>\n",
       "      <td>676586.313</td>\n",
       "      <td>40290.084933</td>\n",
       "      <td>SED</td>\n",
       "      <td>9</td>\n",
       "    </tr>\n",
       "    <tr>\n",
       "      <th>69</th>\n",
       "      <td>SED_10</td>\n",
       "      <td>5.748108e+05</td>\n",
       "      <td>478536.406</td>\n",
       "      <td>96274.438909</td>\n",
       "      <td>SED</td>\n",
       "      <td>10</td>\n",
       "    </tr>\n",
       "  </tbody>\n",
       "</table>\n",
       "<p>70 rows × 6 columns</p>\n",
       "</div>"
      ],
      "text/plain": [
       "     Brand  Forecast_values  Actual_values          Error Brandname leMonth\n",
       "0    BUD_4     1.570485e+06    1526338.829   44146.395158       BUD       4\n",
       "1    BUD_5     1.831176e+06    2070232.414  239056.613000       BUD       5\n",
       "2    BUD_6     2.103516e+06    2367853.079  264337.166887       BUD       6\n",
       "3    BUD_7     2.063421e+06    1748440.507  314980.376784       BUD       7\n",
       "4    BUD_8     1.981049e+06    1965172.455   15876.706821       BUD       8\n",
       "..     ...              ...            ...            ...       ...     ...\n",
       "65   SED_6     1.057933e+06    1017321.008   40612.167160       SED       6\n",
       "66   SED_7     1.143181e+06    1041501.477  101679.539907       SED       7\n",
       "67   SED_8     1.091140e+06    1140412.751   49272.663408       SED       8\n",
       "68   SED_9     7.168764e+05     676586.313   40290.084933       SED       9\n",
       "69  SED_10     5.748108e+05     478536.406   96274.438909       SED      10\n",
       "\n",
       "[70 rows x 6 columns]"
      ]
     },
     "execution_count": 8,
     "metadata": {},
     "output_type": "execute_result"
    }
   ],
   "source": [
    "final['Error']=np.abs(final['Forecast_values']-final['Actual_values'])\n",
    "final[['Brandname','leMonth']] = final.Brand.str.split(\"_\",expand=True)\n",
    "final"
   ]
  },
  {
   "cell_type": "code",
   "execution_count": 9,
   "metadata": {},
   "outputs": [
    {
     "data": {
      "text/html": [
       "<div>\n",
       "<style scoped>\n",
       "    .dataframe tbody tr th:only-of-type {\n",
       "        vertical-align: middle;\n",
       "    }\n",
       "\n",
       "    .dataframe tbody tr th {\n",
       "        vertical-align: top;\n",
       "    }\n",
       "\n",
       "    .dataframe thead th {\n",
       "        text-align: right;\n",
       "    }\n",
       "</style>\n",
       "<table border=\"1\" class=\"dataframe\">\n",
       "  <thead>\n",
       "    <tr style=\"text-align: right;\">\n",
       "      <th></th>\n",
       "      <th>Error</th>\n",
       "      <th>Actual_values</th>\n",
       "      <th>Accuracy</th>\n",
       "    </tr>\n",
       "    <tr>\n",
       "      <th>leMonth</th>\n",
       "      <th></th>\n",
       "      <th></th>\n",
       "      <th></th>\n",
       "    </tr>\n",
       "  </thead>\n",
       "  <tbody>\n",
       "    <tr>\n",
       "      <th>10</th>\n",
       "      <td>6.405698e+05</td>\n",
       "      <td>4.337604e+06</td>\n",
       "      <td>85.23</td>\n",
       "    </tr>\n",
       "    <tr>\n",
       "      <th>4</th>\n",
       "      <td>3.430336e+05</td>\n",
       "      <td>5.886592e+06</td>\n",
       "      <td>94.17</td>\n",
       "    </tr>\n",
       "    <tr>\n",
       "      <th>5</th>\n",
       "      <td>8.663745e+05</td>\n",
       "      <td>7.765913e+06</td>\n",
       "      <td>88.84</td>\n",
       "    </tr>\n",
       "    <tr>\n",
       "      <th>6</th>\n",
       "      <td>7.528395e+05</td>\n",
       "      <td>8.845780e+06</td>\n",
       "      <td>91.49</td>\n",
       "    </tr>\n",
       "    <tr>\n",
       "      <th>7</th>\n",
       "      <td>1.020316e+06</td>\n",
       "      <td>7.681924e+06</td>\n",
       "      <td>86.72</td>\n",
       "    </tr>\n",
       "    <tr>\n",
       "      <th>8</th>\n",
       "      <td>5.852241e+05</td>\n",
       "      <td>8.678606e+06</td>\n",
       "      <td>93.26</td>\n",
       "    </tr>\n",
       "    <tr>\n",
       "      <th>9</th>\n",
       "      <td>5.620362e+05</td>\n",
       "      <td>6.322181e+06</td>\n",
       "      <td>91.11</td>\n",
       "    </tr>\n",
       "  </tbody>\n",
       "</table>\n",
       "</div>"
      ],
      "text/plain": [
       "                Error  Actual_values  Accuracy\n",
       "leMonth                                       \n",
       "10       6.405698e+05   4.337604e+06     85.23\n",
       "4        3.430336e+05   5.886592e+06     94.17\n",
       "5        8.663745e+05   7.765913e+06     88.84\n",
       "6        7.528395e+05   8.845780e+06     91.49\n",
       "7        1.020316e+06   7.681924e+06     86.72\n",
       "8        5.852241e+05   8.678606e+06     93.26\n",
       "9        5.620362e+05   6.322181e+06     91.11"
      ]
     },
     "execution_count": 9,
     "metadata": {},
     "output_type": "execute_result"
    }
   ],
   "source": [
    "Agg_accuracy = final.groupby(by=['leMonth']).sum()[['Error','Actual_values']]\n",
    "Agg_accuracy['Accuracy'] = np.round((1-(Agg_accuracy['Error']/Agg_accuracy['Actual_values']))*100,2)\n",
    "Agg_accuracy"
   ]
  },
  {
   "cell_type": "code",
   "execution_count": 10,
   "metadata": {},
   "outputs": [
    {
     "data": {
      "text/html": [
       "<div>\n",
       "<style scoped>\n",
       "    .dataframe tbody tr th:only-of-type {\n",
       "        vertical-align: middle;\n",
       "    }\n",
       "\n",
       "    .dataframe tbody tr th {\n",
       "        vertical-align: top;\n",
       "    }\n",
       "\n",
       "    .dataframe thead th {\n",
       "        text-align: right;\n",
       "    }\n",
       "</style>\n",
       "<table border=\"1\" class=\"dataframe\">\n",
       "  <thead>\n",
       "    <tr style=\"text-align: right;\">\n",
       "      <th></th>\n",
       "      <th></th>\n",
       "      <th>Error</th>\n",
       "      <th>Actual_values</th>\n",
       "      <th>Accuracy</th>\n",
       "    </tr>\n",
       "    <tr>\n",
       "      <th>leMonth</th>\n",
       "      <th>Brandname</th>\n",
       "      <th></th>\n",
       "      <th></th>\n",
       "      <th></th>\n",
       "    </tr>\n",
       "  </thead>\n",
       "  <tbody>\n",
       "    <tr>\n",
       "      <th rowspan=\"5\" valign=\"top\">10</th>\n",
       "      <th>BUD</th>\n",
       "      <td>242858.863678</td>\n",
       "      <td>1228506.813</td>\n",
       "      <td>80.23</td>\n",
       "    </tr>\n",
       "    <tr>\n",
       "      <th>DFH</th>\n",
       "      <td>16417.146612</td>\n",
       "      <td>113275.304</td>\n",
       "      <td>85.51</td>\n",
       "    </tr>\n",
       "    <tr>\n",
       "      <th>GSB</th>\n",
       "      <td>42791.761710</td>\n",
       "      <td>169547.098</td>\n",
       "      <td>74.76</td>\n",
       "    </tr>\n",
       "    <tr>\n",
       "      <th>HBBP</th>\n",
       "      <td>11004.131675</td>\n",
       "      <td>6343.267</td>\n",
       "      <td>-73.48</td>\n",
       "    </tr>\n",
       "    <tr>\n",
       "      <th>HBI</th>\n",
       "      <td>27365.927940</td>\n",
       "      <td>537122.121</td>\n",
       "      <td>94.91</td>\n",
       "    </tr>\n",
       "    <tr>\n",
       "      <th>...</th>\n",
       "      <th>...</th>\n",
       "      <td>...</td>\n",
       "      <td>...</td>\n",
       "      <td>...</td>\n",
       "    </tr>\n",
       "    <tr>\n",
       "      <th rowspan=\"5\" valign=\"top\">9</th>\n",
       "      <th>HBO</th>\n",
       "      <td>19713.113667</td>\n",
       "      <td>1022205.832</td>\n",
       "      <td>98.07</td>\n",
       "    </tr>\n",
       "    <tr>\n",
       "      <th>HKOW</th>\n",
       "      <td>29615.300024</td>\n",
       "      <td>536874.218</td>\n",
       "      <td>94.48</td>\n",
       "    </tr>\n",
       "    <tr>\n",
       "      <th>ISP</th>\n",
       "      <td>16917.348063</td>\n",
       "      <td>200866.341</td>\n",
       "      <td>91.58</td>\n",
       "    </tr>\n",
       "    <tr>\n",
       "      <th>OTH</th>\n",
       "      <td>70255.766903</td>\n",
       "      <td>1067790.405</td>\n",
       "      <td>93.42</td>\n",
       "    </tr>\n",
       "    <tr>\n",
       "      <th>SED</th>\n",
       "      <td>40290.084933</td>\n",
       "      <td>676586.313</td>\n",
       "      <td>94.05</td>\n",
       "    </tr>\n",
       "  </tbody>\n",
       "</table>\n",
       "<p>70 rows × 3 columns</p>\n",
       "</div>"
      ],
      "text/plain": [
       "                           Error  Actual_values  Accuracy\n",
       "leMonth Brandname                                        \n",
       "10      BUD        242858.863678    1228506.813     80.23\n",
       "        DFH         16417.146612     113275.304     85.51\n",
       "        GSB         42791.761710     169547.098     74.76\n",
       "        HBBP        11004.131675       6343.267    -73.48\n",
       "        HBI         27365.927940     537122.121     94.91\n",
       "...                          ...            ...       ...\n",
       "9       HBO         19713.113667    1022205.832     98.07\n",
       "        HKOW        29615.300024     536874.218     94.48\n",
       "        ISP         16917.348063     200866.341     91.58\n",
       "        OTH         70255.766903    1067790.405     93.42\n",
       "        SED         40290.084933     676586.313     94.05\n",
       "\n",
       "[70 rows x 3 columns]"
      ]
     },
     "execution_count": 10,
     "metadata": {},
     "output_type": "execute_result"
    }
   ],
   "source": [
    "Agg_accuracy_brand = final.groupby(by=['leMonth','Brandname']).sum()[['Error','Actual_values']]\n",
    "Agg_accuracy_brand['Accuracy'] = np.round((1-(Agg_accuracy_brand['Error']/Agg_accuracy_brand['Actual_values']))*100,2)\n",
    "Agg_accuracy_brand"
   ]
  },
  {
   "cell_type": "code",
   "execution_count": 11,
   "metadata": {},
   "outputs": [],
   "source": [
    "final.to_excel('TPOT_Holiday_seleco_temp_prec_gto_disc_5min.xlsx')"
   ]
  },
  {
   "cell_type": "code",
   "execution_count": 12,
   "metadata": {},
   "outputs": [],
   "source": [
    "import winsound\n",
    "duration = 1000  # milliseconds\n",
    "freq = 1000  # Hz\n",
    "winsound.Beep(freq, duration)"
   ]
  }
 ],
 "metadata": {
  "kernelspec": {
   "display_name": "Python 3",
   "language": "python",
   "name": "python3"
  },
  "language_info": {
   "codemirror_mode": {
    "name": "ipython",
    "version": 3
   },
   "file_extension": ".py",
   "mimetype": "text/x-python",
   "name": "python",
   "nbconvert_exporter": "python",
   "pygments_lexer": "ipython3",
   "version": "3.6.5"
  }
 },
 "nbformat": 4,
 "nbformat_minor": 2
}
